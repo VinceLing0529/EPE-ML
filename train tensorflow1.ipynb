{
 "cells": [
  {
   "cell_type": "code",
   "execution_count": 14,
   "metadata": {},
   "outputs": [],
   "source": [
    "\n",
    "from __future__ import print_function\n",
    "import six\n",
    "import sys\n",
    "import os\n",
    "from optparse import OptionParser\n",
    "from keras.models import load_model, Model, model_from_json\n",
    "from argparse import ArgumentParser\n",
    "from keras import backend as K\n",
    "from keras.layers import Input\n",
    "import numpy as np\n",
    "# fix random seed for reproducibility\n",
    "seed = 42\n",
    "np.random.seed(seed)\n",
    "import h5py\n",
    "import matplotlib\n",
    "%matplotlib inline\n",
    "import matplotlib.pyplot as plt\n",
    "from sklearn.metrics import roc_curve, auc\n",
    "import pandas as pd\n",
    "from keras.optimizers import Adam, Nadam\n",
    "import pandas as pd\n",
    "from keras.layers import Input\n",
    "from sklearn.model_selection import train_test_split\n",
    "from sklearn import preprocessing\n",
    "import yaml\n",
    "from train import get_features"
   ]
  },
  {
   "cell_type": "code",
   "execution_count": 16,
   "metadata": {},
   "outputs": [
    {
     "name": "stdout",
     "output_type": "stream",
     "text": [
      "Loading configuration from train_config_conv1d.yml\n",
      "{'Inputs': ['j1_ptrel', 'j1_etarot', 'j1_phirot', 'j1_erel', 'j1_deltaR', 'j1_costhetarel', 'j1_pdgid', 'j_index'], 'Labels': ['j_g', 'j_q', 'j_w', 'j_z', 'j_t', 'j_index'], 'KerasModel': 'conv1d_model', 'KerasModelRetrain': 'conv1d_model_constraint', 'KerasLoss': 'categorical_crossentropy', 'L1Reg': 0.0001, 'NormalizeInputs': 1, 'InputType': 'Conv1D', 'MaxParticles': 100}\n"
     ]
    }
   ],
   "source": [
    "from collections import namedtuple\n",
    "Option = namedtuple(\"MyStruct\", \"inputFile tree config outputDir\")\n",
    "\n",
    "options = Option(\n",
    "    inputFile = 'processed-pythia82-lhc13-all-pt1-50k-r1_h022_e0175_t220_nonu_withPars_truth.z',\n",
    "    tree = 't_allpar_new',\n",
    "    config = 'train_config_conv1d.yml',\n",
    "    outputDir = '/'\n",
    ")\n",
    "\n",
    "print(\"Loading configuration from\", options.config)\n",
    "config = open(options.config, 'r')\n",
    "yamlConfig =  yaml.load(config, Loader=yaml.FullLoader)\n",
    "print(yamlConfig)"
   ]
  },
  {
   "cell_type": "code",
   "execution_count": 17,
   "metadata": {},
   "outputs": [],
   "source": [
    "from __future__ import print_function\n",
    "from keras.layers import Dense, Dropout, Flatten, Convolution2D, merge, Convolution1D, Conv2D, Conv1D, Input, SpatialDropout1D, GRU, MaxPooling1D, AveragePooling1D, SimpleRNN, LSTM, BatchNormalization, Activation\n",
    "from keras.models import Model, Sequential\n",
    "from keras.regularizers import l1\n",
    "import h5py\n",
    "def conv1d_model(Inputs, nclasses, l1Reg=0):\n",
    "    \"\"\"\n",
    "    Conv1D model, kernel size 40\n",
    "    \"\"\"\n",
    "    x = Conv1D(filters=8, kernel_size=4, strides=1, padding='same',\n",
    "               kernel_initializer='he_normal', use_bias=True, name='conv1_relu',\n",
    "               activation = 'relu', W_regularizer=l1(l1Reg))(Inputs)\n",
    "    x = Conv1D(filters=4, kernel_size=4, strides=2, padding='same',\n",
    "               kernel_initializer='he_normal', use_bias=True, name='conv2_relu',\n",
    "               activation = 'relu', W_regularizer=l1(l1Reg))(x)\n",
    "    x = Conv1D(filters=2, kernel_size=4, strides=3, padding='same',\n",
    "               kernel_initializer='he_normal', use_bias=True, name='conv3_relu',\n",
    "               activation = 'relu', W_regularizer=l1(l1Reg))(x)\n",
    "    x = Flatten()(x)\n",
    "    x = Dense(32, activation='relu', kernel_initializer='lecun_uniform',\n",
    "              name='fc1_relu', W_regularizer=l1(l1Reg))(x)\n",
    "    predictions = Dense(nclasses, activation='softmax', kernel_initializer='lecun_uniform',\n",
    "                        name='output_softmax', W_regularizer=l1(l1Reg))(x)\n",
    "    model = Model(inputs=Inputs, outputs=predictions)\n",
    "    print(model.summary())\n",
    "    return model\n"
   ]
  },
  {
   "cell_type": "code",
   "execution_count": 18,
   "metadata": {},
   "outputs": [
    {
     "name": "stderr",
     "output_type": "stream",
     "text": [
      "C:\\Users\\Azure\\Desktop\\ML git\\train.py:29: H5pyDeprecationWarning: The default file mode will change to 'r' (read-only) in h5py 3.0. To suppress this warning, pass the mode you need to h5py.File(), or set the global default h5.get_config().default_file_mode, or set the environment variable H5PY_DEFAULT_READONLY=1. Available modes are: 'r', 'r+', 'w', 'w-'/'x', 'a'. See the docs for details.\n",
      "  h5File = h5py.File(options.inputFile)\n"
     ]
    },
    {
     "name": "stdout",
     "output_type": "stream",
     "text": [
      "(5119909,)\n",
      "('j_ptfrac', 'j_pt', 'j_eta', 'j_mass', 'j_tau1_b1', 'j_tau2_b1', 'j_tau3_b1', 'j_tau1_b2', 'j_tau2_b2', 'j_tau3_b2', 'j_tau32_b1', 'j_tau32_b2', 'j_zlogz', 'j_c1_b0', 'j_c1_b1', 'j_c1_b2', 'j_c2_b1', 'j_c2_b2', 'j_d2_b1', 'j_d2_b2', 'j_d2_a1_b1', 'j_d2_a1_b2', 'j_m2_b1', 'j_m2_b2', 'j_n2_b1', 'j_n2_b2', 'j_tau1_b1_mmdt', 'j_tau2_b1_mmdt', 'j_tau3_b1_mmdt', 'j_tau1_b2_mmdt', 'j_tau2_b2_mmdt', 'j_tau3_b2_mmdt', 'j_tau32_b1_mmdt', 'j_tau32_b2_mmdt', 'j_c1_b0_mmdt', 'j_c1_b1_mmdt', 'j_c1_b2_mmdt', 'j_c2_b1_mmdt', 'j_c2_b2_mmdt', 'j_d2_b1_mmdt', 'j_d2_b2_mmdt', 'j_d2_a1_b1_mmdt', 'j_d2_a1_b2_mmdt', 'j_m2_b1_mmdt', 'j_m2_b2_mmdt', 'j_n2_b1_mmdt', 'j_n2_b2_mmdt', 'j_mass_trim', 'j_mass_mmdt', 'j_mass_prun', 'j_mass_sdb2', 'j_mass_sdm1', 'j_multiplicity', 'j1_px', 'j1_py', 'j1_pz', 'j1_e', 'j1_pdgid', 'j1_erel', 'j1_pt', 'j1_ptrel', 'j1_eta', 'j1_etarel', 'j1_etarot', 'j1_phi', 'j1_phirel', 'j1_phirot', 'j1_deltaR', 'j1_costheta', 'j1_costhetarel', 'j1_e1mcosthetarel', 'j_index', 'j_g', 'j_q', 'j_w', 'j_z', 'j_t', 'j_undef')\n"
     ]
    }
   ],
   "source": [
    "X_train_val, X_test, y_train_val, y_test, labels  = get_features(options, yamlConfig)\n"
   ]
  },
  {
   "cell_type": "code",
   "execution_count": 28,
   "metadata": {},
   "outputs": [
    {
     "name": "stderr",
     "output_type": "stream",
     "text": [
      "D:\\Users\\Azure\\anaconda3\\lib\\site-packages\\ipykernel_launcher.py:12: UserWarning: Update your `Conv1D` call to the Keras 2 API: `Conv1D(filters=8, kernel_size=4, strides=1, padding=\"same\", kernel_initializer=\"he_normal\", use_bias=True, name=\"conv1_relu\", activation=\"relu\", kernel_regularizer=<keras.reg...)`\n",
      "  if sys.path[0] == '':\n",
      "D:\\Users\\Azure\\anaconda3\\lib\\site-packages\\ipykernel_launcher.py:15: UserWarning: Update your `Conv1D` call to the Keras 2 API: `Conv1D(filters=4, kernel_size=4, strides=2, padding=\"same\", kernel_initializer=\"he_normal\", use_bias=True, name=\"conv2_relu\", activation=\"relu\", kernel_regularizer=<keras.reg...)`\n",
      "  from ipykernel import kernelapp as app\n",
      "D:\\Users\\Azure\\anaconda3\\lib\\site-packages\\ipykernel_launcher.py:18: UserWarning: Update your `Conv1D` call to the Keras 2 API: `Conv1D(filters=2, kernel_size=4, strides=3, padding=\"same\", kernel_initializer=\"he_normal\", use_bias=True, name=\"conv3_relu\", activation=\"relu\", kernel_regularizer=<keras.reg...)`\n",
      "D:\\Users\\Azure\\anaconda3\\lib\\site-packages\\ipykernel_launcher.py:21: UserWarning: Update your `Dense` call to the Keras 2 API: `Dense(32, activation=\"relu\", kernel_initializer=\"lecun_uniform\", name=\"fc1_relu\", kernel_regularizer=<keras.reg...)`\n",
      "D:\\Users\\Azure\\anaconda3\\lib\\site-packages\\ipykernel_launcher.py:23: UserWarning: Update your `Dense` call to the Keras 2 API: `Dense(5, activation=\"softmax\", kernel_initializer=\"lecun_uniform\", name=\"output_softmax\", kernel_regularizer=<keras.reg...)`\n"
     ]
    },
    {
     "name": "stdout",
     "output_type": "stream",
     "text": [
      "Model: \"model_8\"\n",
      "_________________________________________________________________\n",
      "Layer (type)                 Output Shape              Param #   \n",
      "=================================================================\n",
      "input_8 (InputLayer)         (None, 100, 7)            0         \n",
      "_________________________________________________________________\n",
      "conv1_relu (Conv1D)          (None, 100, 8)            232       \n",
      "_________________________________________________________________\n",
      "conv2_relu (Conv1D)          (None, 50, 4)             132       \n",
      "_________________________________________________________________\n",
      "conv3_relu (Conv1D)          (None, 17, 2)             34        \n",
      "_________________________________________________________________\n",
      "flatten_8 (Flatten)          (None, 34)                0         \n",
      "_________________________________________________________________\n",
      "fc1_relu (Dense)             (None, 32)                1120      \n",
      "_________________________________________________________________\n",
      "output_softmax (Dense)       (None, 5)                 165       \n",
      "=================================================================\n",
      "Total params: 1,683\n",
      "Trainable params: 1,683\n",
      "Non-trainable params: 0\n",
      "_________________________________________________________________\n",
      "None\n",
      "Train on 14889 samples, validate on 4963 samples\n",
      "Epoch 1/100\n",
      "14889/14889 [==============================] - 1s 39us/step - loss: 1.6275 - accuracy: 0.2171 - val_loss: 1.6203 - val_accuracy: 0.2414\n",
      "Epoch 2/100\n",
      "14889/14889 [==============================] - 0s 24us/step - loss: 1.6053 - accuracy: 0.2795 - val_loss: 1.5983 - val_accuracy: 0.3006\n",
      "Epoch 3/100\n",
      "14889/14889 [==============================] - 0s 24us/step - loss: 1.5833 - accuracy: 0.3409 - val_loss: 1.5761 - val_accuracy: 0.3657\n",
      "Epoch 4/100\n",
      "14889/14889 [==============================] - 0s 24us/step - loss: 1.5606 - accuracy: 0.4059 - val_loss: 1.5529 - val_accuracy: 0.4312\n",
      "Epoch 5/100\n",
      "14889/14889 [==============================] - 0s 24us/step - loss: 1.5366 - accuracy: 0.4696 - val_loss: 1.5281 - val_accuracy: 0.4937\n",
      "Epoch 6/100\n",
      "14889/14889 [==============================] - 0s 23us/step - loss: 1.5111 - accuracy: 0.5304 - val_loss: 1.5013 - val_accuracy: 0.5527\n",
      "Epoch 7/100\n",
      "14889/14889 [==============================] - 0s 24us/step - loss: 1.4831 - accuracy: 0.5841 - val_loss: 1.4722 - val_accuracy: 0.6041\n",
      "Epoch 8/100\n",
      "14889/14889 [==============================] - 0s 25us/step - loss: 1.4527 - accuracy: 0.6345 - val_loss: 1.4402 - val_accuracy: 0.6530\n",
      "Epoch 9/100\n",
      "14889/14889 [==============================] - 0s 25us/step - loss: 1.4194 - accuracy: 0.6765 - val_loss: 1.4050 - val_accuracy: 0.6923\n",
      "Epoch 10/100\n",
      "14889/14889 [==============================] - 0s 24us/step - loss: 1.3827 - accuracy: 0.7115 - val_loss: 1.3665 - val_accuracy: 0.7300\n",
      "Epoch 11/100\n",
      "14889/14889 [==============================] - 0s 24us/step - loss: 1.3423 - accuracy: 0.7395 - val_loss: 1.3241 - val_accuracy: 0.7546\n",
      "Epoch 12/100\n",
      "14889/14889 [==============================] - 0s 23us/step - loss: 1.2985 - accuracy: 0.7612 - val_loss: 1.2784 - val_accuracy: 0.7707\n",
      "Epoch 13/100\n",
      "14889/14889 [==============================] - 0s 24us/step - loss: 1.2514 - accuracy: 0.7769 - val_loss: 1.2299 - val_accuracy: 0.7832\n",
      "Epoch 14/100\n",
      "14889/14889 [==============================] - 0s 24us/step - loss: 1.2018 - accuracy: 0.7865 - val_loss: 1.1788 - val_accuracy: 0.7941\n",
      "Epoch 15/100\n",
      "14889/14889 [==============================] - 0s 23us/step - loss: 1.1501 - accuracy: 0.7940 - val_loss: 1.1263 - val_accuracy: 0.8009\n",
      "Epoch 16/100\n",
      "14889/14889 [==============================] - 0s 24us/step - loss: 1.0977 - accuracy: 0.7991 - val_loss: 1.0732 - val_accuracy: 0.8037\n",
      "Epoch 17/100\n",
      "14889/14889 [==============================] - 0s 24us/step - loss: 1.0450 - accuracy: 0.8015 - val_loss: 1.0204 - val_accuracy: 0.8056\n",
      "Epoch 18/100\n",
      "14889/14889 [==============================] - 0s 27us/step - loss: 0.9929 - accuracy: 0.8025 - val_loss: 0.9690 - val_accuracy: 0.8068\n",
      "Epoch 19/100\n",
      "14889/14889 [==============================] - 0s 24us/step - loss: 0.9427 - accuracy: 0.8027 - val_loss: 0.9198 - val_accuracy: 0.8070\n",
      "Epoch 20/100\n",
      "14889/14889 [==============================] - 0s 23us/step - loss: 0.8952 - accuracy: 0.8028 - val_loss: 0.8737 - val_accuracy: 0.8072\n",
      "Epoch 21/100\n",
      "14889/14889 [==============================] - 0s 23us/step - loss: 0.8509 - accuracy: 0.8028 - val_loss: 0.8314 - val_accuracy: 0.8072\n",
      "Epoch 22/100\n",
      "14889/14889 [==============================] - 0s 24us/step - loss: 0.8106 - accuracy: 0.8028 - val_loss: 0.7930 - val_accuracy: 0.8072\n",
      "Epoch 23/100\n",
      "14889/14889 [==============================] - 0s 25us/step - loss: 0.7742 - accuracy: 0.8028 - val_loss: 0.7586 - val_accuracy: 0.8072\n",
      "Epoch 24/100\n",
      "14889/14889 [==============================] - 0s 25us/step - loss: 0.7416 - accuracy: 0.8028 - val_loss: 0.7279 - val_accuracy: 0.8072\n",
      "Epoch 25/100\n",
      "14889/14889 [==============================] - 0s 25us/step - loss: 0.7127 - accuracy: 0.8028 - val_loss: 0.7002 - val_accuracy: 0.8072\n",
      "Epoch 26/100\n",
      "14889/14889 [==============================] - 0s 24us/step - loss: 0.6867 - accuracy: 0.8028 - val_loss: 0.6755 - val_accuracy: 0.8072\n",
      "Epoch 27/100\n",
      "14889/14889 [==============================] - 0s 24us/step - loss: 0.6635 - accuracy: 0.8028 - val_loss: 0.6534 - val_accuracy: 0.8072\n",
      "Epoch 28/100\n",
      "14889/14889 [==============================] - 0s 24us/step - loss: 0.6426 - accuracy: 0.8028 - val_loss: 0.6333 - val_accuracy: 0.8072\n",
      "Epoch 29/100\n",
      "14889/14889 [==============================] - 0s 23us/step - loss: 0.6236 - accuracy: 0.8028 - val_loss: 0.6150 - val_accuracy: 0.8072\n",
      "Epoch 30/100\n",
      "14889/14889 [==============================] - 0s 24us/step - loss: 0.6063 - accuracy: 0.8028 - val_loss: 0.5981 - val_accuracy: 0.8072\n",
      "Epoch 31/100\n",
      "14889/14889 [==============================] - 0s 25us/step - loss: 0.5903 - accuracy: 0.8028 - val_loss: 0.5828 - val_accuracy: 0.8072\n",
      "Epoch 32/100\n",
      "14889/14889 [==============================] - 0s 24us/step - loss: 0.5761 - accuracy: 0.8028 - val_loss: 0.5689 - val_accuracy: 0.8072\n",
      "Epoch 33/100\n",
      "14889/14889 [==============================] - 0s 24us/step - loss: 0.5629 - accuracy: 0.8028 - val_loss: 0.5561 - val_accuracy: 0.8072\n",
      "Epoch 34/100\n",
      "14889/14889 [==============================] - 0s 26us/step - loss: 0.5508 - accuracy: 0.8028 - val_loss: 0.5442 - val_accuracy: 0.8072\n",
      "Epoch 35/100\n",
      "14889/14889 [==============================] - 0s 25us/step - loss: 0.5394 - accuracy: 0.8028 - val_loss: 0.5330 - val_accuracy: 0.8072\n",
      "Epoch 36/100\n",
      "14889/14889 [==============================] - 0s 26us/step - loss: 0.5287 - accuracy: 0.8028 - val_loss: 0.5224 - val_accuracy: 0.8072\n",
      "Epoch 37/100\n",
      "14889/14889 [==============================] - 0s 25us/step - loss: 0.5186 - accuracy: 0.8028 - val_loss: 0.5124 - val_accuracy: 0.8072\n",
      "Epoch 38/100\n",
      "14889/14889 [==============================] - 0s 25us/step - loss: 0.5089 - accuracy: 0.8028 - val_loss: 0.5028 - val_accuracy: 0.8072\n",
      "Epoch 39/100\n",
      "14889/14889 [==============================] - 0s 24us/step - loss: 0.4996 - accuracy: 0.8028 - val_loss: 0.4936 - val_accuracy: 0.8072\n",
      "Epoch 40/100\n",
      "14889/14889 [==============================] - 0s 25us/step - loss: 0.4904 - accuracy: 0.8028 - val_loss: 0.4843 - val_accuracy: 0.8072\n",
      "Epoch 41/100\n",
      "14889/14889 [==============================] - 0s 25us/step - loss: 0.4813 - accuracy: 0.8028 - val_loss: 0.4753 - val_accuracy: 0.8072\n",
      "Epoch 42/100\n",
      "14889/14889 [==============================] - 0s 26us/step - loss: 0.4726 - accuracy: 0.8028 - val_loss: 0.4668 - val_accuracy: 0.8072\n",
      "Epoch 43/100\n",
      "14889/14889 [==============================] - 0s 24us/step - loss: 0.4643 - accuracy: 0.8028 - val_loss: 0.4586 - val_accuracy: 0.8072\n",
      "Epoch 44/100\n",
      "14889/14889 [==============================] - 0s 24us/step - loss: 0.4564 - accuracy: 0.8028 - val_loss: 0.4508 - val_accuracy: 0.8072\n",
      "Epoch 45/100\n",
      "14889/14889 [==============================] - 0s 25us/step - loss: 0.4488 - accuracy: 0.8028 - val_loss: 0.4433 - val_accuracy: 0.8072\n",
      "Epoch 46/100\n",
      "14889/14889 [==============================] - 0s 25us/step - loss: 0.4414 - accuracy: 0.8028 - val_loss: 0.4362 - val_accuracy: 0.8072\n",
      "Epoch 47/100\n"
     ]
    },
    {
     "name": "stdout",
     "output_type": "stream",
     "text": [
      "14889/14889 [==============================] - 0s 24us/step - loss: 0.4344 - accuracy: 0.8028 - val_loss: 0.4293 - val_accuracy: 0.8072\n",
      "Epoch 48/100\n",
      "14889/14889 [==============================] - 0s 24us/step - loss: 0.4276 - accuracy: 0.8028 - val_loss: 0.4227 - val_accuracy: 0.8072\n",
      "Epoch 49/100\n",
      "14889/14889 [==============================] - 0s 24us/step - loss: 0.4210 - accuracy: 0.8028 - val_loss: 0.4164 - val_accuracy: 0.8072\n",
      "Epoch 50/100\n",
      "14889/14889 [==============================] - 0s 25us/step - loss: 0.4147 - accuracy: 0.8029 - val_loss: 0.4103 - val_accuracy: 0.8072\n",
      "Epoch 51/100\n",
      "14889/14889 [==============================] - 0s 25us/step - loss: 0.4085 - accuracy: 0.8029 - val_loss: 0.4044 - val_accuracy: 0.8072\n",
      "Epoch 52/100\n",
      "14889/14889 [==============================] - 0s 24us/step - loss: 0.4026 - accuracy: 0.8031 - val_loss: 0.3987 - val_accuracy: 0.8076\n",
      "Epoch 53/100\n",
      "14889/14889 [==============================] - 0s 25us/step - loss: 0.3968 - accuracy: 0.8032 - val_loss: 0.3933 - val_accuracy: 0.8076\n",
      "Epoch 54/100\n",
      "14889/14889 [==============================] - 0s 25us/step - loss: 0.3912 - accuracy: 0.8036 - val_loss: 0.3880 - val_accuracy: 0.8084\n",
      "Epoch 55/100\n",
      "14889/14889 [==============================] - 0s 25us/step - loss: 0.3858 - accuracy: 0.8048 - val_loss: 0.3829 - val_accuracy: 0.8102\n",
      "Epoch 56/100\n",
      "14889/14889 [==============================] - 0s 25us/step - loss: 0.3805 - accuracy: 0.8063 - val_loss: 0.3780 - val_accuracy: 0.8118\n",
      "Epoch 57/100\n",
      "14889/14889 [==============================] - 0s 24us/step - loss: 0.3754 - accuracy: 0.8082 - val_loss: 0.3732 - val_accuracy: 0.8130\n",
      "Epoch 58/100\n",
      "14889/14889 [==============================] - 0s 23us/step - loss: 0.3705 - accuracy: 0.8114 - val_loss: 0.3686 - val_accuracy: 0.8154\n",
      "Epoch 59/100\n",
      "14889/14889 [==============================] - 0s 24us/step - loss: 0.3657 - accuracy: 0.8156 - val_loss: 0.3641 - val_accuracy: 0.8195\n",
      "Epoch 60/100\n",
      "14889/14889 [==============================] - 0s 25us/step - loss: 0.3610 - accuracy: 0.8194 - val_loss: 0.3597 - val_accuracy: 0.8229\n",
      "Epoch 61/100\n",
      "14889/14889 [==============================] - 0s 24us/step - loss: 0.3564 - accuracy: 0.8238 - val_loss: 0.3554 - val_accuracy: 0.8269\n",
      "Epoch 62/100\n",
      "14889/14889 [==============================] - 0s 24us/step - loss: 0.3519 - accuracy: 0.8278 - val_loss: 0.3512 - val_accuracy: 0.8305\n",
      "Epoch 63/100\n",
      "14889/14889 [==============================] - 0s 24us/step - loss: 0.3476 - accuracy: 0.8332 - val_loss: 0.3471 - val_accuracy: 0.8374\n",
      "Epoch 64/100\n",
      "14889/14889 [==============================] - 0s 24us/step - loss: 0.3433 - accuracy: 0.8378 - val_loss: 0.3430 - val_accuracy: 0.8420\n",
      "Epoch 65/100\n",
      "14889/14889 [==============================] - 0s 24us/step - loss: 0.3390 - accuracy: 0.8418 - val_loss: 0.3390 - val_accuracy: 0.8471\n",
      "Epoch 66/100\n",
      "14889/14889 [==============================] - 0s 25us/step - loss: 0.3348 - accuracy: 0.8475 - val_loss: 0.3350 - val_accuracy: 0.8511\n",
      "Epoch 67/100\n",
      "14889/14889 [==============================] - 0s 25us/step - loss: 0.3306 - accuracy: 0.8527 - val_loss: 0.3310 - val_accuracy: 0.8549\n",
      "Epoch 68/100\n",
      "14889/14889 [==============================] - 0s 24us/step - loss: 0.3265 - accuracy: 0.8571 - val_loss: 0.3271 - val_accuracy: 0.8592\n",
      "Epoch 69/100\n",
      "14889/14889 [==============================] - 0s 24us/step - loss: 0.3224 - accuracy: 0.8618 - val_loss: 0.3232 - val_accuracy: 0.8622\n",
      "Epoch 70/100\n",
      "14889/14889 [==============================] - 0s 23us/step - loss: 0.3184 - accuracy: 0.8657 - val_loss: 0.3194 - val_accuracy: 0.8658\n",
      "Epoch 71/100\n",
      "14889/14889 [==============================] - 0s 24us/step - loss: 0.3143 - accuracy: 0.8699 - val_loss: 0.3155 - val_accuracy: 0.8676\n",
      "Epoch 72/100\n",
      "14889/14889 [==============================] - 0s 24us/step - loss: 0.3103 - accuracy: 0.8732 - val_loss: 0.3117 - val_accuracy: 0.8706\n",
      "Epoch 73/100\n",
      "14889/14889 [==============================] - 0s 23us/step - loss: 0.3064 - accuracy: 0.8769 - val_loss: 0.3080 - val_accuracy: 0.8735\n",
      "Epoch 74/100\n",
      "14889/14889 [==============================] - 0s 24us/step - loss: 0.3025 - accuracy: 0.8795 - val_loss: 0.3043 - val_accuracy: 0.8759\n",
      "Epoch 75/100\n",
      "14889/14889 [==============================] - 0s 24us/step - loss: 0.2986 - accuracy: 0.8826 - val_loss: 0.3006 - val_accuracy: 0.8783\n",
      "Epoch 76/100\n",
      "14889/14889 [==============================] - 0s 24us/step - loss: 0.2946 - accuracy: 0.8849 - val_loss: 0.2969 - val_accuracy: 0.8809\n",
      "Epoch 77/100\n",
      "14889/14889 [==============================] - 0s 24us/step - loss: 0.2908 - accuracy: 0.8868 - val_loss: 0.2932 - val_accuracy: 0.8827\n",
      "Epoch 78/100\n",
      "14889/14889 [==============================] - 0s 25us/step - loss: 0.2870 - accuracy: 0.8886 - val_loss: 0.2896 - val_accuracy: 0.8843\n",
      "Epoch 79/100\n",
      "14889/14889 [==============================] - 0s 24us/step - loss: 0.2832 - accuracy: 0.8901 - val_loss: 0.2861 - val_accuracy: 0.8862\n",
      "Epoch 80/100\n",
      "14889/14889 [==============================] - 0s 25us/step - loss: 0.2795 - accuracy: 0.8912 - val_loss: 0.2826 - val_accuracy: 0.8870\n",
      "Epoch 81/100\n",
      "14889/14889 [==============================] - 0s 23us/step - loss: 0.2759 - accuracy: 0.8922 - val_loss: 0.2791 - val_accuracy: 0.8890\n",
      "Epoch 82/100\n",
      "14889/14889 [==============================] - 0s 24us/step - loss: 0.2722 - accuracy: 0.8934 - val_loss: 0.2757 - val_accuracy: 0.8896\n",
      "Epoch 83/100\n",
      "14889/14889 [==============================] - 0s 24us/step - loss: 0.2687 - accuracy: 0.8946 - val_loss: 0.2723 - val_accuracy: 0.8900\n",
      "Epoch 84/100\n",
      "14889/14889 [==============================] - 0s 23us/step - loss: 0.2652 - accuracy: 0.8956 - val_loss: 0.2690 - val_accuracy: 0.8904\n",
      "Epoch 85/100\n",
      "14889/14889 [==============================] - 0s 24us/step - loss: 0.2617 - accuracy: 0.8963 - val_loss: 0.2657 - val_accuracy: 0.8906\n",
      "Epoch 86/100\n",
      "14889/14889 [==============================] - 0s 23us/step - loss: 0.2583 - accuracy: 0.8969 - val_loss: 0.2625 - val_accuracy: 0.8914\n",
      "Epoch 87/100\n",
      "14889/14889 [==============================] - 0s 24us/step - loss: 0.2550 - accuracy: 0.8973 - val_loss: 0.2593 - val_accuracy: 0.8922\n",
      "Epoch 88/100\n",
      "14889/14889 [==============================] - 0s 24us/step - loss: 0.2517 - accuracy: 0.8978 - val_loss: 0.2562 - val_accuracy: 0.8926\n",
      "Epoch 89/100\n",
      "14889/14889 [==============================] - 0s 24us/step - loss: 0.2485 - accuracy: 0.8983 - val_loss: 0.2531 - val_accuracy: 0.8926\n",
      "Epoch 90/100\n",
      "14889/14889 [==============================] - 0s 24us/step - loss: 0.2454 - accuracy: 0.8984 - val_loss: 0.2501 - val_accuracy: 0.8930\n",
      "Epoch 91/100\n",
      "14889/14889 [==============================] - 0s 24us/step - loss: 0.2422 - accuracy: 0.8988 - val_loss: 0.2472 - val_accuracy: 0.8934\n",
      "Epoch 92/100\n",
      "14889/14889 [==============================] - 0s 24us/step - loss: 0.2392 - accuracy: 0.8989 - val_loss: 0.2442 - val_accuracy: 0.8936\n",
      "Epoch 93/100\n",
      "14889/14889 [==============================] - 0s 24us/step - loss: 0.2362 - accuracy: 0.8990 - val_loss: 0.2414 - val_accuracy: 0.8938\n",
      "Epoch 94/100\n",
      "14889/14889 [==============================] - 0s 24us/step - loss: 0.2333 - accuracy: 0.8994 - val_loss: 0.2385 - val_accuracy: 0.8940\n",
      "Epoch 95/100\n",
      "14889/14889 [==============================] - 0s 24us/step - loss: 0.2304 - accuracy: 0.8996 - val_loss: 0.2357 - val_accuracy: 0.8942\n",
      "Epoch 96/100\n",
      "14889/14889 [==============================] - 0s 23us/step - loss: 0.2275 - accuracy: 0.8997 - val_loss: 0.2330 - val_accuracy: 0.8944\n",
      "Epoch 97/100\n",
      "14889/14889 [==============================] - 0s 24us/step - loss: 0.2247 - accuracy: 0.9001 - val_loss: 0.2303 - val_accuracy: 0.8958\n",
      "Epoch 98/100\n",
      "14889/14889 [==============================] - 0s 24us/step - loss: 0.2220 - accuracy: 0.9015 - val_loss: 0.2276 - val_accuracy: 0.8970\n",
      "Epoch 99/100\n",
      "14889/14889 [==============================] - 0s 24us/step - loss: 0.2193 - accuracy: 0.9033 - val_loss: 0.2250 - val_accuracy: 0.8993\n",
      "Epoch 100/100\n",
      "14889/14889 [==============================] - 0s 24us/step - loss: 0.2166 - accuracy: 0.9064 - val_loss: 0.2224 - val_accuracy: 0.9023\n"
     ]
    },
    {
     "data": {
      "text/plain": [
       "<keras.callbacks.callbacks.History at 0x25689b795c8>"
      ]
     },
     "execution_count": 28,
     "metadata": {},
     "output_type": "execute_result"
    }
   ],
   "source": [
    "keras_model = conv1d_model(Input(shape=X_train_val.shape[1:]), y_train_val.shape[1], l1Reg=yamlConfig['L1Reg'] )\n",
    "startlearningrate=0.0001\n",
    "adam = Adam(lr=startlearningrate)\n",
    "keras_model.compile(optimizer=adam, loss=[yamlConfig['KerasLoss']], metrics=['accuracy'])\n",
    "callbacks=None\n",
    "\n",
    "keras_model.fit(X_train_val, y_train_val, batch_size = 1024, epochs = 100,\n",
    "                validation_split = 0.25, shuffle = True, callbacks = None)"
   ]
  },
  {
   "cell_type": "code",
   "execution_count": 31,
   "metadata": {},
   "outputs": [],
   "source": [
    "\n",
    "import matplotlib.pyplot as plt\n",
    "from sklearn.metrics import roc_curve, auc"
   ]
  },
  {
   "cell_type": "code",
   "execution_count": 32,
   "metadata": {},
   "outputs": [
    {
     "data": {
      "text/plain": [
       "Text(0.25, 0.9, 'Conv_1d_notebook_version')"
      ]
     },
     "execution_count": 32,
     "metadata": {},
     "output_type": "execute_result"
    },
    {
     "data": {
      "image/png": "[encoded data removed]",
      "text/plain": [
       "<Figure size 432x288 with 1 Axes>"
      ]
     },
     "metadata": {
      "needs_background": "light"
     },
     "output_type": "display_data"
    }
   ],
   "source": [
    "\n",
    "if 'j_index' in labels: labels.remove('j_index')\n",
    "\n",
    "predict_test = keras_model.predict(X_test)\n",
    "\n",
    "df = pd.DataFrame()\n",
    "\n",
    "fpr = {}\n",
    "tpr = {}\n",
    "auc1 = {}\n",
    "\n",
    "plt.figure()       \n",
    "for i, label in enumerate(labels):\n",
    "    df[label] = y_test[:,i]\n",
    "    df[label + '_pred'] = predict_test[:,i]\n",
    "\n",
    "    fpr[label], tpr[label], threshold = roc_curve(df[label],df[label+'_pred'])\n",
    "\n",
    "    auc1[label] = auc(fpr[label], tpr[label])\n",
    "\n",
    "    plt.plot(tpr[label],fpr[label],label='%s tagger, AUC = %.1f%%'%(label.replace('j_',''),auc1[label]*100.))\n",
    "plt.semilogy()\n",
    "plt.xlabel(\"Signal Efficiency\")\n",
    "plt.ylabel(\"Background Efficiency\")\n",
    "plt.ylim(0.001,1)\n",
    "plt.grid(True)\n",
    "plt.legend(loc='upper left')\n",
    "plt.figtext(0.25, 0.90,'Conv_1d_notebook_version',fontweight='bold', wrap=True, horizontalalignment='right', fontsize=14)"
   ]
  },
  {
   "cell_type": "code",
   "execution_count": 37,
   "metadata": {},
   "outputs": [],
   "source": [
    "\n",
    "def conv2d_model(Inputs, nclasses, l1Reg=0):\n",
    "    \"\"\"\n",
    "    Conv2D model, kernel size (11,11), (3,3), (3,3)\n",
    "    \"\"\"\n",
    "    x = Conv2D(filters=8, kernel_size=(11,11), strides=1, padding='same',\n",
    "               kernel_initializer='he_normal', use_bias=True, name='conv1_relu',\n",
    "               activation = 'relu')(Inputs)\n",
    "    x = Conv2D(filters=4, kernel_size=(3,3), strides=2, padding='same',\n",
    "               kernel_initializer='he_normal', use_bias=True, name='conv2_relu',\n",
    "               activation = 'relu')(x)\n",
    "    x = Conv2D(filters=2, kernel_size=(3,3), strides=2, padding='same',\n",
    "               kernel_initializer='he_normal', use_bias=True, name='conv3_relu',\n",
    "               activation = 'relu')(x)\n",
    "    x = Flatten()(x)\n",
    "    x = Dense(32, activation='relu')(x)\n",
    "    predictions = Dense(nclasses, activation='softmax', kernel_initializer='lecun_uniform', name='output_softmax')(x)\n",
    "    model = Model(inputs=Inputs, outputs=predictions)\n",
    "    print(model.summary())\n",
    "    return model\n"
   ]
  },
  {
   "cell_type": "code",
   "execution_count": 39,
   "metadata": {},
   "outputs": [
    {
     "name": "stdout",
     "output_type": "stream",
     "text": [
      "Loading configuration from train_config_conv2d.yml\n",
      "{'Inputs': ['j1_etarot', 'j1_phirot', 'j1_ptrel', 'j_index'], 'Labels': ['j_g', 'j_q', 'j_w', 'j_z', 'j_t', 'j_index'], 'KerasModel': 'conv2d_model', 'KerasModelRetrain': 'conv2d_model_constraint', 'KerasLoss': 'categorical_crossentropy', 'L1Reg': 0.0001, 'NormalizeInputs': 0, 'InputType': 'Conv2D', 'BinsX': 40, 'MinX': -0.8, 'MaxX': 0.8, 'BinsY': 40, 'MinY': -1.0, 'MaxY': 1.0, 'MaxParticles': 100}\n",
      "(5119909,)"
     ]
    },
    {
     "name": "stderr",
     "output_type": "stream",
     "text": [
      "C:\\Users\\Azure\\Desktop\\ML git\\train.py:29: H5pyDeprecationWarning: The default file mode will change to 'r' (read-only) in h5py 3.0. To suppress this warning, pass the mode you need to h5py.File(), or set the global default h5.get_config().default_file_mode, or set the environment variable H5PY_DEFAULT_READONLY=1. Available modes are: 'r', 'r+', 'w', 'w-'/'x', 'a'. See the docs for details.\n",
      "  h5File = h5py.File(options.inputFile)\n"
     ]
    },
    {
     "name": "stdout",
     "output_type": "stream",
     "text": [
      "\n",
      "('j_ptfrac', 'j_pt', 'j_eta', 'j_mass', 'j_tau1_b1', 'j_tau2_b1', 'j_tau3_b1', 'j_tau1_b2', 'j_tau2_b2', 'j_tau3_b2', 'j_tau32_b1', 'j_tau32_b2', 'j_zlogz', 'j_c1_b0', 'j_c1_b1', 'j_c1_b2', 'j_c2_b1', 'j_c2_b2', 'j_d2_b1', 'j_d2_b2', 'j_d2_a1_b1', 'j_d2_a1_b2', 'j_m2_b1', 'j_m2_b2', 'j_n2_b1', 'j_n2_b2', 'j_tau1_b1_mmdt', 'j_tau2_b1_mmdt', 'j_tau3_b1_mmdt', 'j_tau1_b2_mmdt', 'j_tau2_b2_mmdt', 'j_tau3_b2_mmdt', 'j_tau32_b1_mmdt', 'j_tau32_b2_mmdt', 'j_c1_b0_mmdt', 'j_c1_b1_mmdt', 'j_c1_b2_mmdt', 'j_c2_b1_mmdt', 'j_c2_b2_mmdt', 'j_d2_b1_mmdt', 'j_d2_b2_mmdt', 'j_d2_a1_b1_mmdt', 'j_d2_a1_b2_mmdt', 'j_m2_b1_mmdt', 'j_m2_b2_mmdt', 'j_n2_b1_mmdt', 'j_n2_b2_mmdt', 'j_mass_trim', 'j_mass_mmdt', 'j_mass_prun', 'j_mass_sdb2', 'j_mass_sdm1', 'j_multiplicity', 'j1_px', 'j1_py', 'j1_pz', 'j1_e', 'j1_pdgid', 'j1_erel', 'j1_pt', 'j1_ptrel', 'j1_eta', 'j1_etarel', 'j1_etarot', 'j1_phi', 'j1_phirel', 'j1_phirot', 'j1_deltaR', 'j1_costheta', 'j1_costhetarel', 'j1_e1mcosthetarel', 'j_index', 'j_g', 'j_q', 'j_w', 'j_z', 'j_t', 'j_undef')\n"
     ]
    }
   ],
   "source": [
    "from collections import namedtuple\n",
    "Option = namedtuple(\"MyStruct\", \"inputFile tree config outputDir\")\n",
    "\n",
    "options = Option(\n",
    "    inputFile = 'processed-pythia82-lhc13-all-pt1-50k-r1_h022_e0175_t220_nonu_withPars_truth.z',\n",
    "    tree = 't_allpar_new',\n",
    "    config = 'train_config_conv2d.yml',\n",
    "    outputDir = '/'\n",
    ")\n",
    "\n",
    "print(\"Loading configuration from\", options.config)\n",
    "config = open(options.config, 'r')\n",
    "yamlConfig =  yaml.load(config, Loader=yaml.FullLoader)\n",
    "print(yamlConfig)\n",
    "X_train_val, X_test, y_train_val, y_test, labels  = get_features(options, yamlConfig)\n"
   ]
  },
  {
   "cell_type": "code",
   "execution_count": 43,
   "metadata": {},
   "outputs": [
    {
     "name": "stdout",
     "output_type": "stream",
     "text": [
      "Model: \"model_11\"\n",
      "_________________________________________________________________\n",
      "Layer (type)                 Output Shape              Param #   \n",
      "=================================================================\n",
      "input_12 (InputLayer)        (None, 40, 40, 1)         0         \n",
      "_________________________________________________________________\n",
      "conv1_relu (Conv2D)          (None, 40, 40, 8)         976       \n",
      "_________________________________________________________________\n",
      "conv2_relu (Conv2D)          (None, 20, 20, 4)         292       \n",
      "_________________________________________________________________\n",
      "conv3_relu (Conv2D)          (None, 10, 10, 2)         74        \n",
      "_________________________________________________________________\n",
      "flatten_11 (Flatten)         (None, 200)               0         \n",
      "_________________________________________________________________\n",
      "dense_3 (Dense)              (None, 32)                6432      \n",
      "_________________________________________________________________\n",
      "output_softmax (Dense)       (None, 5)                 165       \n",
      "=================================================================\n",
      "Total params: 7,939\n",
      "Trainable params: 7,939\n",
      "Non-trainable params: 0\n",
      "_________________________________________________________________\n",
      "None\n",
      "Train on 14889 samples, validate on 4963 samples\n",
      "Epoch 1/20\n",
      "14889/14889 [==============================] - 9s 574us/step - loss: 1.6060 - accuracy: 0.3507 - val_loss: 1.6027 - val_accuracy: 0.6883\n",
      "Epoch 2/20\n",
      "14889/14889 [==============================] - 8s 551us/step - loss: 1.5975 - accuracy: 0.7957 - val_loss: 1.5914 - val_accuracy: 0.8402\n",
      "Epoch 3/20\n",
      "14889/14889 [==============================] - 9s 585us/step - loss: 1.5824 - accuracy: 0.8375 - val_loss: 1.5710 - val_accuracy: 0.8338\n",
      "Epoch 4/20\n",
      "14889/14889 [==============================] - 8s 566us/step - loss: 1.5577 - accuracy: 0.8189 - val_loss: 1.5403 - val_accuracy: 0.8120\n",
      "Epoch 5/20\n",
      "14889/14889 [==============================] - 8s 566us/step - loss: 1.5219 - accuracy: 0.8039 - val_loss: 1.4980 - val_accuracy: 0.8074\n",
      "Epoch 6/20\n",
      "14889/14889 [==============================] - 8s 566us/step - loss: 1.4744 - accuracy: 0.8028 - val_loss: 1.4436 - val_accuracy: 0.8072\n",
      "Epoch 7/20\n",
      "14889/14889 [==============================] - 8s 557us/step - loss: 1.4142 - accuracy: 0.8028 - val_loss: 1.3757 - val_accuracy: 0.8072\n",
      "Epoch 8/20\n",
      "14889/14889 [==============================] - 8s 556us/step - loss: 1.3404 - accuracy: 0.8028 - val_loss: 1.2937 - val_accuracy: 0.8072\n",
      "Epoch 9/20\n",
      "14889/14889 [==============================] - 8s 545us/step - loss: 1.2526 - accuracy: 0.8028 - val_loss: 1.1979 - val_accuracy: 0.8072\n",
      "Epoch 10/20\n",
      "14889/14889 [==============================] - 9s 585us/step - loss: 1.1517 - accuracy: 0.8028 - val_loss: 1.0902 - val_accuracy: 0.8072\n",
      "Epoch 11/20\n",
      "14889/14889 [==============================] - 8s 567us/step - loss: 1.0410 - accuracy: 0.8028 - val_loss: 0.9760 - val_accuracy: 0.8072\n",
      "Epoch 12/20\n",
      "14889/14889 [==============================] - 8s 537us/step - loss: 0.9275 - accuracy: 0.8028 - val_loss: 0.8624 - val_accuracy: 0.8072\n",
      "Epoch 13/20\n",
      "14889/14889 [==============================] - 8s 549us/step - loss: 0.8184 - accuracy: 0.8028 - val_loss: 0.7582 - val_accuracy: 0.8072\n",
      "Epoch 14/20\n",
      "14889/14889 [==============================] - 8s 552us/step - loss: 0.7214 - accuracy: 0.8028 - val_loss: 0.6685 - val_accuracy: 0.8072\n",
      "Epoch 15/20\n",
      "14889/14889 [==============================] - 8s 568us/step - loss: 0.6397 - accuracy: 0.8028 - val_loss: 0.5945 - val_accuracy: 0.8072\n",
      "Epoch 16/20\n",
      "14889/14889 [==============================] - 9s 596us/step - loss: 0.5732 - accuracy: 0.8028 - val_loss: 0.5349 - val_accuracy: 0.8074\n",
      "Epoch 17/20\n",
      "14889/14889 [==============================] - 9s 573us/step - loss: 0.5191 - accuracy: 0.8035 - val_loss: 0.4862 - val_accuracy: 0.8104\n",
      "Epoch 18/20\n",
      "14889/14889 [==============================] - 9s 607us/step - loss: 0.4741 - accuracy: 0.8099 - val_loss: 0.4448 - val_accuracy: 0.8233\n",
      "Epoch 19/20\n",
      "14889/14889 [==============================] - 9s 598us/step - loss: 0.4352 - accuracy: 0.8299 - val_loss: 0.4086 - val_accuracy: 0.8469\n",
      "Epoch 20/20\n",
      "14889/14889 [==============================] - 8s 548us/step - loss: 0.4009 - accuracy: 0.8500 - val_loss: 0.3770 - val_accuracy: 0.8694\n"
     ]
    },
    {
     "data": {
      "text/plain": [
       "<keras.callbacks.callbacks.History at 0x25696ec4688>"
      ]
     },
     "execution_count": 43,
     "metadata": {},
     "output_type": "execute_result"
    }
   ],
   "source": [
    "\n",
    "keras_model = conv2d_model(Input(shape=X_train_val.shape[1:]), y_train_val.shape[1], l1Reg=yamlConfig['L1Reg'] )\n",
    "startlearningrate=0.0001\n",
    "adam = Adam(lr=startlearningrate)\n",
    "keras_model.compile(optimizer=adam, loss=[yamlConfig['KerasLoss']], metrics=['accuracy'])\n",
    "callbacks=None\n",
    "\n",
    "keras_model.fit(X_train_val, y_train_val, batch_size = 1024, epochs = 20,\n",
    "                validation_split = 0.25, shuffle = True, callbacks = None)"
   ]
  },
  {
   "cell_type": "code",
   "execution_count": 45,
   "metadata": {},
   "outputs": [
    {
     "data": {
      "text/plain": [
       "Text(0.25, 0.9, 'Conv_2d_notebook_version')"
      ]
     },
     "execution_count": 45,
     "metadata": {},
     "output_type": "execute_result"
    },
    {
     "data": {
      "image/png": "[encoded data removed]",
      "text/plain": [
       "<Figure size 432x288 with 1 Axes>"
      ]
     },
     "metadata": {
      "needs_background": "light"
     },
     "output_type": "display_data"
    }
   ],
   "source": [
    "\n",
    "if 'j_index' in labels: labels.remove('j_index')\n",
    "\n",
    "predict_test = keras_model.predict(X_test)\n",
    "\n",
    "df = pd.DataFrame()\n",
    "\n",
    "fpr = {}\n",
    "tpr = {}\n",
    "auc1 = {}\n",
    "\n",
    "plt.figure()       \n",
    "for i, label in enumerate(labels):\n",
    "    df[label] = y_test[:,i]\n",
    "    df[label + '_pred'] = predict_test[:,i]\n",
    "\n",
    "    fpr[label], tpr[label], threshold = roc_curve(df[label],df[label+'_pred'])\n",
    "\n",
    "    auc1[label] = auc(fpr[label], tpr[label])\n",
    "\n",
    "    plt.plot(tpr[label],fpr[label],label='%s tagger, AUC = %.1f%%'%(label.replace('j_',''),auc1[label]*100.))\n",
    "plt.semilogy()\n",
    "plt.xlabel(\"Signal Efficiency\")\n",
    "plt.ylabel(\"Background Efficiency\")\n",
    "plt.ylim(0.001,1)\n",
    "plt.grid(True)\n",
    "plt.legend(loc='upper left')\n",
    "plt.figtext(0.25, 0.90,'Conv_2d_notebook_version',fontweight='bold', wrap=True, horizontalalignment='right', fontsize=14)"
   ]
  },
  {
   "cell_type": "code",
   "execution_count": null,
   "metadata": {},
   "outputs": [],
   "source": []
  }
 ],
 "metadata": {
  "kernelspec": {
   "display_name": "Python 3",
   "language": "python",
   "name": "python3"
  },
  "language_info": {
   "codemirror_mode": {
    "name": "ipython",
    "version": 3
   },
   "file_extension": ".py",
   "mimetype": "text/x-python",
   "name": "python",
   "nbconvert_exporter": "python",
   "pygments_lexer": "ipython3",
   "version": "3.7.6"
  }
 },
 "nbformat": 4,
 "nbformat_minor": 4
}
