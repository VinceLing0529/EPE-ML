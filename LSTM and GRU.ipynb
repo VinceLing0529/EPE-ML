{
 "cells": [
  {
   "cell_type": "code",
   "execution_count": 9,
   "metadata": {},
   "outputs": [],
   "source": [
    "\n",
    "from __future__ import print_function\n",
    "import six\n",
    "import sys\n",
    "import os\n",
    "from optparse import OptionParser\n",
    "from keras.models import load_model, Model, model_from_json\n",
    "from argparse import ArgumentParser\n",
    "from keras import backend as K\n",
    "from keras.layers import Input\n",
    "import numpy as np\n",
    "# fix random seed for reproducibility\n",
    "seed = 42\n",
    "np.random.seed(seed)\n",
    "import h5py\n",
    "import matplotlib\n",
    "%matplotlib inline\n",
    "import matplotlib.pyplot as plt\n",
    "from sklearn.metrics import roc_curve, auc\n",
    "import pandas as pd\n",
    "from keras.optimizers import Adam, Nadam\n",
    "import pandas as pd\n",
    "from keras.layers import Input\n",
    "from sklearn.model_selection import train_test_split\n",
    "from sklearn import preprocessing\n",
    "import yaml\n",
    "from train import get_features"
   ]
  },
  {
   "cell_type": "code",
   "execution_count": 10,
   "metadata": {},
   "outputs": [
    {
     "name": "stdout",
     "output_type": "stream",
     "text": [
      "Loading configuration from train_config_lstm.yml\n",
      "{'Inputs': ['j1_ptrel', 'j1_etarot', 'j1_phirot', 'j1_erel', 'j1_deltaR', 'j1_pdgid', 'j_index'], 'Labels': ['j_g', 'j_q', 'j_w', 'j_z', 'j_t', 'j_index'], 'KerasModel': 'lstm_model', 'KerasModelRetrain': 'lstm_model_constraint', 'KerasLoss': 'categorical_crossentropy', 'L1Reg': 0.0001, 'L1RegR': 0.001, 'NormalizeInputs': 1, 'InputType': 'Conv1D', 'MaxParticles': 20}\n"
     ]
    }
   ],
   "source": [
    "from collections import namedtuple\n",
    "Option = namedtuple(\"MyStruct\", \"inputFile tree config outputDir\")\n",
    "\n",
    "options = Option(\n",
    "    inputFile = 'processed-pythia82-lhc13-all-pt1-50k-r1_h022_e0175_t220_nonu_withPars_truth.z',\n",
    "    tree = 't_allpar_new',\n",
    "    config = 'train_config_lstm.yml',\n",
    "    outputDir = '/'\n",
    ")\n",
    "\n",
    "print(\"Loading configuration from\", options.config)\n",
    "config = open(options.config, 'r')\n",
    "yamlConfig =  yaml.load(config, Loader=yaml.FullLoader)\n",
    "print(yamlConfig)"
   ]
  },
  {
   "cell_type": "code",
   "execution_count": 77,
   "metadata": {},
   "outputs": [],
   "source": [
    "from __future__ import print_function\n",
    "from keras.layers import Dense, Dropout, Flatten, Convolution2D, merge, Convolution1D, Conv2D, Conv1D, Input, SpatialDropout1D, GRU, MaxPooling1D, AveragePooling1D, SimpleRNN, LSTM, BatchNormalization, Activation\n",
    "from keras.models import Model, Sequential\n",
    "from keras.regularizers import l1\n",
    "import h5py\n",
    "\n",
    "def lstm_model(Inputs, nclasses, l1Reg=0,l1RegR=0):\n",
    "    x = LSTM(16,return_sequences=False,  kernel_regularizer=l1(l1Reg),recurrent_regularizer=l1(l1RegR),activation='relu',kernel_initializer='lecun_uniform',name='lstm_lstm')(Inputs)\n",
    "    x = Flatten()(x)\n",
    "    predictions = Dense(nclasses, activation='softmax', kernel_initializer='lecun_uniform', name='rnn_densef')(x)\n",
    "    model = Model(inputs=Inputs, outputs=predictions)\n",
    "    print(model.summary())\n",
    "    return model"
   ]
  },
  {
   "cell_type": "code",
   "execution_count": 12,
   "metadata": {},
   "outputs": [
    {
     "name": "stderr",
     "output_type": "stream",
     "text": [
      "C:\\Users\\Azure\\Desktop\\ML git\\train.py:29: H5pyDeprecationWarning: The default file mode will change to 'r' (read-only) in h5py 3.0. To suppress this warning, pass the mode you need to h5py.File(), or set the global default h5.get_config().default_file_mode, or set the environment variable H5PY_DEFAULT_READONLY=1. Available modes are: 'r', 'r+', 'w', 'w-'/'x', 'a'. See the docs for details.\n",
      "  h5File = h5py.File(options.inputFile)\n"
     ]
    },
    {
     "name": "stdout",
     "output_type": "stream",
     "text": [
      "(5119909,)\n",
      "('j_ptfrac', 'j_pt', 'j_eta', 'j_mass', 'j_tau1_b1', 'j_tau2_b1', 'j_tau3_b1', 'j_tau1_b2', 'j_tau2_b2', 'j_tau3_b2', 'j_tau32_b1', 'j_tau32_b2', 'j_zlogz', 'j_c1_b0', 'j_c1_b1', 'j_c1_b2', 'j_c2_b1', 'j_c2_b2', 'j_d2_b1', 'j_d2_b2', 'j_d2_a1_b1', 'j_d2_a1_b2', 'j_m2_b1', 'j_m2_b2', 'j_n2_b1', 'j_n2_b2', 'j_tau1_b1_mmdt', 'j_tau2_b1_mmdt', 'j_tau3_b1_mmdt', 'j_tau1_b2_mmdt', 'j_tau2_b2_mmdt', 'j_tau3_b2_mmdt', 'j_tau32_b1_mmdt', 'j_tau32_b2_mmdt', 'j_c1_b0_mmdt', 'j_c1_b1_mmdt', 'j_c1_b2_mmdt', 'j_c2_b1_mmdt', 'j_c2_b2_mmdt', 'j_d2_b1_mmdt', 'j_d2_b2_mmdt', 'j_d2_a1_b1_mmdt', 'j_d2_a1_b2_mmdt', 'j_m2_b1_mmdt', 'j_m2_b2_mmdt', 'j_n2_b1_mmdt', 'j_n2_b2_mmdt', 'j_mass_trim', 'j_mass_mmdt', 'j_mass_prun', 'j_mass_sdb2', 'j_mass_sdm1', 'j_multiplicity', 'j1_px', 'j1_py', 'j1_pz', 'j1_e', 'j1_pdgid', 'j1_erel', 'j1_pt', 'j1_ptrel', 'j1_eta', 'j1_etarel', 'j1_etarot', 'j1_phi', 'j1_phirel', 'j1_phirot', 'j1_deltaR', 'j1_costheta', 'j1_costhetarel', 'j1_e1mcosthetarel', 'j_index', 'j_g', 'j_q', 'j_w', 'j_z', 'j_t', 'j_undef')\n"
     ]
    }
   ],
   "source": [
    "X_train_val, X_test, y_train_val, y_test, labels  = get_features(options, yamlConfig)\n"
   ]
  },
  {
   "cell_type": "code",
   "execution_count": 78,
   "metadata": {},
   "outputs": [
    {
     "ename": "ValueError",
     "evalue": "Input 0 is incompatible with layer flatten_20: expected min_ndim=3, found ndim=2",
     "output_type": "error",
     "traceback": [
      "\u001b[1;31m---------------------------------------------------------------------------\u001b[0m",
      "\u001b[1;31mValueError\u001b[0m                                Traceback (most recent call last)",
      "\u001b[1;32m<ipython-input-78-fa7b905ece46>\u001b[0m in \u001b[0;36m<module>\u001b[1;34m\u001b[0m\n\u001b[1;32m----> 1\u001b[1;33m \u001b[0mkeras_model\u001b[0m \u001b[1;33m=\u001b[0m \u001b[0mlstm_model\u001b[0m\u001b[1;33m(\u001b[0m\u001b[0mInput\u001b[0m\u001b[1;33m(\u001b[0m\u001b[0mshape\u001b[0m\u001b[1;33m=\u001b[0m\u001b[0mX_train_val\u001b[0m\u001b[1;33m.\u001b[0m\u001b[0mshape\u001b[0m\u001b[1;33m[\u001b[0m\u001b[1;36m1\u001b[0m\u001b[1;33m:\u001b[0m\u001b[1;33m]\u001b[0m\u001b[1;33m)\u001b[0m\u001b[1;33m,\u001b[0m \u001b[0my_train_val\u001b[0m\u001b[1;33m.\u001b[0m\u001b[0mshape\u001b[0m\u001b[1;33m[\u001b[0m\u001b[1;36m1\u001b[0m\u001b[1;33m]\u001b[0m\u001b[1;33m,\u001b[0m \u001b[0ml1Reg\u001b[0m\u001b[1;33m=\u001b[0m\u001b[0myamlConfig\u001b[0m\u001b[1;33m[\u001b[0m\u001b[1;34m'L1Reg'\u001b[0m\u001b[1;33m]\u001b[0m \u001b[1;33m)\u001b[0m\u001b[1;33m\u001b[0m\u001b[1;33m\u001b[0m\u001b[0m\n\u001b[0m\u001b[0;32m      2\u001b[0m \u001b[0mstartlearningrate\u001b[0m\u001b[1;33m=\u001b[0m\u001b[1;36m0.0001\u001b[0m\u001b[1;33m\u001b[0m\u001b[1;33m\u001b[0m\u001b[0m\n\u001b[0;32m      3\u001b[0m \u001b[0madam\u001b[0m \u001b[1;33m=\u001b[0m \u001b[0mAdam\u001b[0m\u001b[1;33m(\u001b[0m\u001b[0mlr\u001b[0m\u001b[1;33m=\u001b[0m\u001b[0mstartlearningrate\u001b[0m\u001b[1;33m)\u001b[0m\u001b[1;33m\u001b[0m\u001b[1;33m\u001b[0m\u001b[0m\n\u001b[0;32m      4\u001b[0m \u001b[0mkeras_model\u001b[0m\u001b[1;33m.\u001b[0m\u001b[0mcompile\u001b[0m\u001b[1;33m(\u001b[0m\u001b[0moptimizer\u001b[0m\u001b[1;33m=\u001b[0m\u001b[0madam\u001b[0m\u001b[1;33m,\u001b[0m \u001b[0mloss\u001b[0m\u001b[1;33m=\u001b[0m\u001b[1;33m[\u001b[0m\u001b[0myamlConfig\u001b[0m\u001b[1;33m[\u001b[0m\u001b[1;34m'KerasLoss'\u001b[0m\u001b[1;33m]\u001b[0m\u001b[1;33m]\u001b[0m\u001b[1;33m,\u001b[0m \u001b[0mmetrics\u001b[0m\u001b[1;33m=\u001b[0m\u001b[1;33m[\u001b[0m\u001b[1;34m'accuracy'\u001b[0m\u001b[1;33m]\u001b[0m\u001b[1;33m)\u001b[0m\u001b[1;33m\u001b[0m\u001b[1;33m\u001b[0m\u001b[0m\n\u001b[0;32m      5\u001b[0m \u001b[0mcallbacks\u001b[0m\u001b[1;33m=\u001b[0m\u001b[1;32mNone\u001b[0m\u001b[1;33m\u001b[0m\u001b[1;33m\u001b[0m\u001b[0m\n",
      "\u001b[1;32m<ipython-input-77-12ced897dfd9>\u001b[0m in \u001b[0;36mlstm_model\u001b[1;34m(Inputs, nclasses, l1Reg, l1RegR)\u001b[0m\n\u001b[0;32m      7\u001b[0m \u001b[1;32mdef\u001b[0m \u001b[0mlstm_model\u001b[0m\u001b[1;33m(\u001b[0m\u001b[0mInputs\u001b[0m\u001b[1;33m,\u001b[0m \u001b[0mnclasses\u001b[0m\u001b[1;33m,\u001b[0m \u001b[0ml1Reg\u001b[0m\u001b[1;33m=\u001b[0m\u001b[1;36m0\u001b[0m\u001b[1;33m,\u001b[0m\u001b[0ml1RegR\u001b[0m\u001b[1;33m=\u001b[0m\u001b[1;36m0\u001b[0m\u001b[1;33m)\u001b[0m\u001b[1;33m:\u001b[0m\u001b[1;33m\u001b[0m\u001b[1;33m\u001b[0m\u001b[0m\n\u001b[0;32m      8\u001b[0m     \u001b[0mx\u001b[0m \u001b[1;33m=\u001b[0m \u001b[0mLSTM\u001b[0m\u001b[1;33m(\u001b[0m\u001b[1;36m16\u001b[0m\u001b[1;33m,\u001b[0m\u001b[0mreturn_sequences\u001b[0m\u001b[1;33m=\u001b[0m\u001b[1;32mFalse\u001b[0m\u001b[1;33m,\u001b[0m  \u001b[0mkernel_regularizer\u001b[0m\u001b[1;33m=\u001b[0m\u001b[0ml1\u001b[0m\u001b[1;33m(\u001b[0m\u001b[0ml1Reg\u001b[0m\u001b[1;33m)\u001b[0m\u001b[1;33m,\u001b[0m\u001b[0mrecurrent_regularizer\u001b[0m\u001b[1;33m=\u001b[0m\u001b[0ml1\u001b[0m\u001b[1;33m(\u001b[0m\u001b[0ml1RegR\u001b[0m\u001b[1;33m)\u001b[0m\u001b[1;33m,\u001b[0m\u001b[0mactivation\u001b[0m\u001b[1;33m=\u001b[0m\u001b[1;34m'relu'\u001b[0m\u001b[1;33m,\u001b[0m\u001b[0mkernel_initializer\u001b[0m\u001b[1;33m=\u001b[0m\u001b[1;34m'lecun_uniform'\u001b[0m\u001b[1;33m,\u001b[0m\u001b[0mname\u001b[0m\u001b[1;33m=\u001b[0m\u001b[1;34m'lstm_lstm'\u001b[0m\u001b[1;33m)\u001b[0m\u001b[1;33m(\u001b[0m\u001b[0mInputs\u001b[0m\u001b[1;33m)\u001b[0m\u001b[1;33m\u001b[0m\u001b[1;33m\u001b[0m\u001b[0m\n\u001b[1;32m----> 9\u001b[1;33m     \u001b[0mx\u001b[0m \u001b[1;33m=\u001b[0m \u001b[0mFlatten\u001b[0m\u001b[1;33m(\u001b[0m\u001b[1;33m)\u001b[0m\u001b[1;33m(\u001b[0m\u001b[0mx\u001b[0m\u001b[1;33m)\u001b[0m\u001b[1;33m\u001b[0m\u001b[1;33m\u001b[0m\u001b[0m\n\u001b[0m\u001b[0;32m     10\u001b[0m     \u001b[0mpredictions\u001b[0m \u001b[1;33m=\u001b[0m \u001b[0mDense\u001b[0m\u001b[1;33m(\u001b[0m\u001b[0mnclasses\u001b[0m\u001b[1;33m,\u001b[0m \u001b[0mactivation\u001b[0m\u001b[1;33m=\u001b[0m\u001b[1;34m'softmax'\u001b[0m\u001b[1;33m,\u001b[0m \u001b[0mkernel_initializer\u001b[0m\u001b[1;33m=\u001b[0m\u001b[1;34m'lecun_uniform'\u001b[0m\u001b[1;33m,\u001b[0m \u001b[0mname\u001b[0m\u001b[1;33m=\u001b[0m\u001b[1;34m'rnn_densef'\u001b[0m\u001b[1;33m)\u001b[0m\u001b[1;33m(\u001b[0m\u001b[0mx\u001b[0m\u001b[1;33m)\u001b[0m\u001b[1;33m\u001b[0m\u001b[1;33m\u001b[0m\u001b[0m\n\u001b[0;32m     11\u001b[0m     \u001b[0mmodel\u001b[0m \u001b[1;33m=\u001b[0m \u001b[0mModel\u001b[0m\u001b[1;33m(\u001b[0m\u001b[0minputs\u001b[0m\u001b[1;33m=\u001b[0m\u001b[0mInputs\u001b[0m\u001b[1;33m,\u001b[0m \u001b[0moutputs\u001b[0m\u001b[1;33m=\u001b[0m\u001b[0mpredictions\u001b[0m\u001b[1;33m)\u001b[0m\u001b[1;33m\u001b[0m\u001b[1;33m\u001b[0m\u001b[0m\n",
      "\u001b[1;32mD:\\Users\\Azure\\anaconda3\\lib\\site-packages\\keras\\engine\\base_layer.py\u001b[0m in \u001b[0;36m__call__\u001b[1;34m(self, inputs, **kwargs)\u001b[0m\n\u001b[0;32m    444\u001b[0m                 \u001b[1;31m# Raise exceptions in case the input is not compatible\u001b[0m\u001b[1;33m\u001b[0m\u001b[1;33m\u001b[0m\u001b[1;33m\u001b[0m\u001b[0m\n\u001b[0;32m    445\u001b[0m                 \u001b[1;31m# with the input_spec specified in the layer constructor.\u001b[0m\u001b[1;33m\u001b[0m\u001b[1;33m\u001b[0m\u001b[1;33m\u001b[0m\u001b[0m\n\u001b[1;32m--> 446\u001b[1;33m                 \u001b[0mself\u001b[0m\u001b[1;33m.\u001b[0m\u001b[0massert_input_compatibility\u001b[0m\u001b[1;33m(\u001b[0m\u001b[0minputs\u001b[0m\u001b[1;33m)\u001b[0m\u001b[1;33m\u001b[0m\u001b[1;33m\u001b[0m\u001b[0m\n\u001b[0m\u001b[0;32m    447\u001b[0m \u001b[1;33m\u001b[0m\u001b[0m\n\u001b[0;32m    448\u001b[0m                 \u001b[1;31m# Collect input shapes to build layer.\u001b[0m\u001b[1;33m\u001b[0m\u001b[1;33m\u001b[0m\u001b[1;33m\u001b[0m\u001b[0m\n",
      "\u001b[1;32mD:\\Users\\Azure\\anaconda3\\lib\\site-packages\\keras\\engine\\base_layer.py\u001b[0m in \u001b[0;36massert_input_compatibility\u001b[1;34m(self, inputs)\u001b[0m\n\u001b[0;32m    356\u001b[0m                                      \u001b[0mself\u001b[0m\u001b[1;33m.\u001b[0m\u001b[0mname\u001b[0m \u001b[1;33m+\u001b[0m \u001b[1;34m': expected min_ndim='\u001b[0m \u001b[1;33m+\u001b[0m\u001b[1;33m\u001b[0m\u001b[1;33m\u001b[0m\u001b[0m\n\u001b[0;32m    357\u001b[0m                                      \u001b[0mstr\u001b[0m\u001b[1;33m(\u001b[0m\u001b[0mspec\u001b[0m\u001b[1;33m.\u001b[0m\u001b[0mmin_ndim\u001b[0m\u001b[1;33m)\u001b[0m \u001b[1;33m+\u001b[0m \u001b[1;34m', found ndim='\u001b[0m \u001b[1;33m+\u001b[0m\u001b[1;33m\u001b[0m\u001b[1;33m\u001b[0m\u001b[0m\n\u001b[1;32m--> 358\u001b[1;33m                                      str(K.ndim(x)))\n\u001b[0m\u001b[0;32m    359\u001b[0m             \u001b[1;31m# Check dtype.\u001b[0m\u001b[1;33m\u001b[0m\u001b[1;33m\u001b[0m\u001b[1;33m\u001b[0m\u001b[0m\n\u001b[0;32m    360\u001b[0m             \u001b[1;32mif\u001b[0m \u001b[0mspec\u001b[0m\u001b[1;33m.\u001b[0m\u001b[0mdtype\u001b[0m \u001b[1;32mis\u001b[0m \u001b[1;32mnot\u001b[0m \u001b[1;32mNone\u001b[0m\u001b[1;33m:\u001b[0m\u001b[1;33m\u001b[0m\u001b[1;33m\u001b[0m\u001b[0m\n",
      "\u001b[1;31mValueError\u001b[0m: Input 0 is incompatible with layer flatten_20: expected min_ndim=3, found ndim=2"
     ]
    }
   ],
   "source": [
    "keras_model = lstm_model(Input(shape=X_train_val.shape[1:]), y_train_val.shape[1], l1Reg=yamlConfig['L1Reg'] )\n",
    "startlearningrate=0.0001\n",
    "adam = Adam(lr=startlearningrate)\n",
    "keras_model.compile(optimizer=adam, loss=[yamlConfig['KerasLoss']], metrics=['accuracy'])\n",
    "callbacks=None\n",
    "\n",
    "keras_model.fit(X_train_val, y_train_val, batch_size = 1024, epochs = 100,\n",
    "                validation_split = 0.25, shuffle = True, callbacks = None)"
   ]
  },
  {
   "cell_type": "code",
   "execution_count": 31,
   "metadata": {},
   "outputs": [],
   "source": [
    "import matplotlib.pyplot as plt\n",
    "from sklearn.metrics import roc_curve, auc"
   ]
  },
  {
   "cell_type": "code",
   "execution_count": 33,
   "metadata": {},
   "outputs": [
    {
     "data": {
      "text/plain": [
       "Text(0.25, 0.9, 'LSTM')"
      ]
     },
     "execution_count": 33,
     "metadata": {},
     "output_type": "execute_result"
    },
    {
     "data": {
      "image/png": "[encoded data removed]",
      "text/plain": [
       "<Figure size 432x288 with 1 Axes>"
      ]
     },
     "metadata": {
      "needs_background": "light"
     },
     "output_type": "display_data"
    }
   ],
   "source": [
    "if 'j_index' in labels: labels.remove('j_index')\n",
    "\n",
    "predict_test = keras_model.predict(X_test)\n",
    "\n",
    "df = pd.DataFrame()\n",
    "\n",
    "fpr = {}\n",
    "tpr = {}\n",
    "auc1 = {}\n",
    "\n",
    "plt.figure()       \n",
    "for i, label in enumerate(labels):\n",
    "    df[label] = y_test[:,i]\n",
    "    df[label + '_pred'] = predict_test[:,i]\n",
    "\n",
    "    fpr[label], tpr[label], threshold = roc_curve(df[label],df[label+'_pred'])\n",
    "\n",
    "    auc1[label] = auc(fpr[label], tpr[label])\n",
    "\n",
    "    plt.plot(tpr[label],fpr[label],label='%s tagger, AUC = %.1f%%'%(label.replace('j_',''),auc1[label]*100.))\n",
    "plt.semilogy()\n",
    "plt.xlabel(\"Signal Efficiency\")\n",
    "plt.ylabel(\"Background Efficiency\")\n",
    "plt.ylim(0.001,1)\n",
    "plt.grid(True)\n",
    "plt.legend(loc='upper left')\n",
    "plt.figtext(0.25, 0.90,'LSTM',fontweight='bold', wrap=True, horizontalalignment='right', fontsize=14)"
   ]
  },
  {
   "cell_type": "code",
   "execution_count": 34,
   "metadata": {},
   "outputs": [],
   "source": [
    "def gru_model(Inputs, nclasses, l1Reg=0,l1RegR=0):\n",
    "    \"\"\"\n",
    "    Basic GRU model\n",
    "    \"\"\"\n",
    "    x = GRU(20,kernel_regularizer=l1(l1Reg),recurrent_regularizer=l1(l1RegR),activation='relu', recurrent_activation='sigmoid', name='gru_selu',)(Inputs)\n",
    "    #x = GRU(20,kernel_regularizer=l1(l1Reg),recurrent_regularizer=l1(l1RegR),activation='selu', recurrent_activation='hard_sigmoid', name='gru_selu',)(Inputs)\n",
    "    x = Dense(20,kernel_regularizer=l1(l1Reg),activation='relu', kernel_initializer='lecun_uniform', name='dense_relu')(x)\n",
    "    x = Dropout(0.1)(x)\n",
    "    predictions = Dense(nclasses, activation='softmax', kernel_initializer='lecun_uniform', name='rnn_densef')(x)\n",
    "    model = Model(inputs=Inputs, outputs=predictions)\n",
    "    print(model.summary())\n",
    "    return model"
   ]
  },
  {
   "cell_type": "code",
   "execution_count": 35,
   "metadata": {},
   "outputs": [
    {
     "name": "stdout",
     "output_type": "stream",
     "text": [
      "Loading configuration from train_config_gru.yml\n",
      "{'Inputs': ['j1_ptrel', 'j1_etarot', 'j1_phirot', 'j1_erel', 'j1_deltaR', 'j1_pdgid', 'j_index'], 'Labels': ['j_g', 'j_q', 'j_w', 'j_z', 'j_t', 'j_index'], 'KerasModel': 'gru_model', 'KerasModelRetrain': 'gru_model_constraint', 'KerasLoss': 'categorical_crossentropy', 'L1Reg': 0.0001, 'L1RegR': 0.001, 'NormalizeInputs': 1, 'InputType': 'Conv1D', 'MaxParticles': 20}\n"
     ]
    }
   ],
   "source": [
    "Option = namedtuple(\"MyStruct\", \"inputFile tree config outputDir\")\n",
    "\n",
    "options = Option(\n",
    "    inputFile = 'processed-pythia82-lhc13-all-pt1-50k-r1_h022_e0175_t220_nonu_withPars_truth.z',\n",
    "    tree = 't_allpar_new',\n",
    "    config = 'train_config_gru.yml',\n",
    "    outputDir = '/'\n",
    ")\n",
    "\n",
    "print(\"Loading configuration from\", options.config)\n",
    "config = open(options.config, 'r')\n",
    "yamlConfig =  yaml.load(config, Loader=yaml.FullLoader)\n",
    "print(yamlConfig)"
   ]
  },
  {
   "cell_type": "code",
   "execution_count": 36,
   "metadata": {},
   "outputs": [
    {
     "name": "stderr",
     "output_type": "stream",
     "text": [
      "C:\\Users\\Azure\\Desktop\\ML git\\train.py:29: H5pyDeprecationWarning: The default file mode will change to 'r' (read-only) in h5py 3.0. To suppress this warning, pass the mode you need to h5py.File(), or set the global default h5.get_config().default_file_mode, or set the environment variable H5PY_DEFAULT_READONLY=1. Available modes are: 'r', 'r+', 'w', 'w-'/'x', 'a'. See the docs for details.\n",
      "  h5File = h5py.File(options.inputFile)\n"
     ]
    },
    {
     "name": "stdout",
     "output_type": "stream",
     "text": [
      "(5119909,)\n",
      "('j_ptfrac', 'j_pt', 'j_eta', 'j_mass', 'j_tau1_b1', 'j_tau2_b1', 'j_tau3_b1', 'j_tau1_b2', 'j_tau2_b2', 'j_tau3_b2', 'j_tau32_b1', 'j_tau32_b2', 'j_zlogz', 'j_c1_b0', 'j_c1_b1', 'j_c1_b2', 'j_c2_b1', 'j_c2_b2', 'j_d2_b1', 'j_d2_b2', 'j_d2_a1_b1', 'j_d2_a1_b2', 'j_m2_b1', 'j_m2_b2', 'j_n2_b1', 'j_n2_b2', 'j_tau1_b1_mmdt', 'j_tau2_b1_mmdt', 'j_tau3_b1_mmdt', 'j_tau1_b2_mmdt', 'j_tau2_b2_mmdt', 'j_tau3_b2_mmdt', 'j_tau32_b1_mmdt', 'j_tau32_b2_mmdt', 'j_c1_b0_mmdt', 'j_c1_b1_mmdt', 'j_c1_b2_mmdt', 'j_c2_b1_mmdt', 'j_c2_b2_mmdt', 'j_d2_b1_mmdt', 'j_d2_b2_mmdt', 'j_d2_a1_b1_mmdt', 'j_d2_a1_b2_mmdt', 'j_m2_b1_mmdt', 'j_m2_b2_mmdt', 'j_n2_b1_mmdt', 'j_n2_b2_mmdt', 'j_mass_trim', 'j_mass_mmdt', 'j_mass_prun', 'j_mass_sdb2', 'j_mass_sdm1', 'j_multiplicity', 'j1_px', 'j1_py', 'j1_pz', 'j1_e', 'j1_pdgid', 'j1_erel', 'j1_pt', 'j1_ptrel', 'j1_eta', 'j1_etarel', 'j1_etarot', 'j1_phi', 'j1_phirel', 'j1_phirot', 'j1_deltaR', 'j1_costheta', 'j1_costhetarel', 'j1_e1mcosthetarel', 'j_index', 'j_g', 'j_q', 'j_w', 'j_z', 'j_t', 'j_undef')\n"
     ]
    }
   ],
   "source": [
    "X_train_val, X_test, y_train_val, y_test, labels  = get_features(options, yamlConfig)\n"
   ]
  },
  {
   "cell_type": "code",
   "execution_count": 81,
   "metadata": {},
   "outputs": [
    {
     "name": "stdout",
     "output_type": "stream",
     "text": [
      "Model: \"model_15\"\n",
      "_________________________________________________________________\n",
      "Layer (type)                 Output Shape              Param #   \n",
      "=================================================================\n",
      "input_34 (InputLayer)        (None, 20, 6)             0         \n",
      "_________________________________________________________________\n",
      "gru_selu (GRU)               (None, 20)                1620      \n",
      "_________________________________________________________________\n",
      "dense_relu (Dense)           (None, 20)                420       \n",
      "_________________________________________________________________\n",
      "dropout_19 (Dropout)         (None, 20)                0         \n",
      "_________________________________________________________________\n",
      "rnn_densef (Dense)           (None, 5)                 105       \n",
      "=================================================================\n",
      "Total params: 2,145\n",
      "Trainable params: 2,145\n",
      "Non-trainable params: 0\n",
      "_________________________________________________________________\n",
      "None\n",
      "Train on 14889 samples, validate on 4963 samples\n",
      "Epoch 1/100\n",
      "14889/14889 [==============================] - 1s 75us/step - loss: 1.6631 - accuracy: 0.0771 - val_loss: 1.6525 - val_accuracy: 0.0471\n",
      "Epoch 2/100\n",
      "14889/14889 [==============================] - 0s 33us/step - loss: 1.6472 - accuracy: 0.0971 - val_loss: 1.6361 - val_accuracy: 0.0893\n",
      "Epoch 3/100\n",
      "14889/14889 [==============================] - 0s 33us/step - loss: 1.6308 - accuracy: 0.1418 - val_loss: 1.6202 - val_accuracy: 0.1582\n",
      "Epoch 4/100\n",
      "14889/14889 [==============================] - 0s 33us/step - loss: 1.6149 - accuracy: 0.1989 - val_loss: 1.6046 - val_accuracy: 0.2426\n",
      "Epoch 5/100\n",
      "14889/14889 [==============================] - 1s 34us/step - loss: 1.6003 - accuracy: 0.2698 - val_loss: 1.5893 - val_accuracy: 0.3276\n",
      "Epoch 6/100\n",
      "14889/14889 [==============================] - 0s 33us/step - loss: 1.5848 - accuracy: 0.3384 - val_loss: 1.5740 - val_accuracy: 0.3975\n",
      "Epoch 7/100\n",
      "14889/14889 [==============================] - 0s 33us/step - loss: 1.5694 - accuracy: 0.4009 - val_loss: 1.5585 - val_accuracy: 0.4644\n",
      "Epoch 8/100\n",
      "14889/14889 [==============================] - 1s 34us/step - loss: 1.5537 - accuracy: 0.4600 - val_loss: 1.5428 - val_accuracy: 0.5257\n",
      "Epoch 9/100\n",
      "14889/14889 [==============================] - 0s 33us/step - loss: 1.5382 - accuracy: 0.5130 - val_loss: 1.5265 - val_accuracy: 0.5849\n",
      "Epoch 10/100\n",
      "14889/14889 [==============================] - 0s 33us/step - loss: 1.5219 - accuracy: 0.5667 - val_loss: 1.5094 - val_accuracy: 0.6417\n",
      "Epoch 11/100\n",
      "14889/14889 [==============================] - 1s 34us/step - loss: 1.5038 - accuracy: 0.6224 - val_loss: 1.4915 - val_accuracy: 0.6911\n",
      "Epoch 12/100\n",
      "14889/14889 [==============================] - 1s 34us/step - loss: 1.4854 - accuracy: 0.6732 - val_loss: 1.4726 - val_accuracy: 0.7322\n",
      "Epoch 13/100\n",
      "14889/14889 [==============================] - 1s 34us/step - loss: 1.4670 - accuracy: 0.7107 - val_loss: 1.4526 - val_accuracy: 0.7661\n",
      "Epoch 14/100\n",
      "14889/14889 [==============================] - 0s 33us/step - loss: 1.4469 - accuracy: 0.7463 - val_loss: 1.4316 - val_accuracy: 0.7921\n",
      "Epoch 15/100\n",
      "14889/14889 [==============================] - 1s 35us/step - loss: 1.4258 - accuracy: 0.7749 - val_loss: 1.4094 - val_accuracy: 0.8138\n",
      "Epoch 16/100\n",
      "14889/14889 [==============================] - 1s 34us/step - loss: 1.4025 - accuracy: 0.7953 - val_loss: 1.3861 - val_accuracy: 0.8324\n",
      "Epoch 17/100\n",
      "14889/14889 [==============================] - 1s 34us/step - loss: 1.3797 - accuracy: 0.8064 - val_loss: 1.3615 - val_accuracy: 0.8406\n",
      "Epoch 18/100\n",
      "14889/14889 [==============================] - 1s 35us/step - loss: 1.3554 - accuracy: 0.8208 - val_loss: 1.3354 - val_accuracy: 0.8432\n",
      "Epoch 19/100\n",
      "14889/14889 [==============================] - 1s 34us/step - loss: 1.3287 - accuracy: 0.8232 - val_loss: 1.3080 - val_accuracy: 0.8426\n",
      "Epoch 20/100\n",
      "14889/14889 [==============================] - 1s 35us/step - loss: 1.3014 - accuracy: 0.8269 - val_loss: 1.2790 - val_accuracy: 0.8378\n",
      "Epoch 21/100\n",
      "14889/14889 [==============================] - 1s 35us/step - loss: 1.2710 - accuracy: 0.8269 - val_loss: 1.2482 - val_accuracy: 0.8305\n",
      "Epoch 22/100\n",
      "14889/14889 [==============================] - 1s 34us/step - loss: 1.2401 - accuracy: 0.8259 - val_loss: 1.2155 - val_accuracy: 0.8253\n",
      "Epoch 23/100\n",
      "14889/14889 [==============================] - 1s 34us/step - loss: 1.2085 - accuracy: 0.8224 - val_loss: 1.1808 - val_accuracy: 0.8183\n",
      "Epoch 24/100\n",
      "14889/14889 [==============================] - 1s 34us/step - loss: 1.1740 - accuracy: 0.8191 - val_loss: 1.1439 - val_accuracy: 0.8132\n",
      "Epoch 25/100\n",
      "14889/14889 [==============================] - 1s 34us/step - loss: 1.1349 - accuracy: 0.8168 - val_loss: 1.1045 - val_accuracy: 0.8114\n",
      "Epoch 26/100\n",
      "14889/14889 [==============================] - 1s 34us/step - loss: 1.0973 - accuracy: 0.8141 - val_loss: 1.0625 - val_accuracy: 0.8104\n",
      "Epoch 27/100\n",
      "14889/14889 [==============================] - 0s 33us/step - loss: 1.0541 - accuracy: 0.8138 - val_loss: 1.0176 - val_accuracy: 0.8092\n",
      "Epoch 28/100\n",
      "14889/14889 [==============================] - 1s 34us/step - loss: 1.0093 - accuracy: 0.8108 - val_loss: 0.9696 - val_accuracy: 0.8086\n",
      "Epoch 29/100\n",
      "14889/14889 [==============================] - 0s 33us/step - loss: 0.9590 - accuracy: 0.8098 - val_loss: 0.9179 - val_accuracy: 0.8078\n",
      "Epoch 30/100\n",
      "14889/14889 [==============================] - 0s 33us/step - loss: 0.9081 - accuracy: 0.8077 - val_loss: 0.8624 - val_accuracy: 0.8080\n",
      "Epoch 31/100\n",
      "14889/14889 [==============================] - 0s 33us/step - loss: 0.8534 - accuracy: 0.8084 - val_loss: 0.8026 - val_accuracy: 0.8078\n",
      "Epoch 32/100\n",
      "14889/14889 [==============================] - 0s 33us/step - loss: 0.7922 - accuracy: 0.8076 - val_loss: 0.7377 - val_accuracy: 0.8076\n",
      "Epoch 33/100\n",
      "14889/14889 [==============================] - 0s 33us/step - loss: 0.7285 - accuracy: 0.8074 - val_loss: 0.6680 - val_accuracy: 0.8076\n",
      "Epoch 34/100\n",
      "14889/14889 [==============================] - 1s 34us/step - loss: 0.6589 - accuracy: 0.8063 - val_loss: 0.5934 - val_accuracy: 0.8076\n",
      "Epoch 35/100\n",
      "14889/14889 [==============================] - 0s 33us/step - loss: 0.5867 - accuracy: 0.8068 - val_loss: 0.5169 - val_accuracy: 0.8076\n",
      "Epoch 36/100\n",
      "14889/14889 [==============================] - 0s 33us/step - loss: 0.5111 - accuracy: 0.8057 - val_loss: 0.4463 - val_accuracy: 0.8076\n",
      "Epoch 37/100\n",
      "14889/14889 [==============================] - 0s 33us/step - loss: 0.4480 - accuracy: 0.8057 - val_loss: 0.3925 - val_accuracy: 0.8076\n",
      "Epoch 38/100\n",
      "14889/14889 [==============================] - 0s 33us/step - loss: 0.3998 - accuracy: 0.8068 - val_loss: 0.3596 - val_accuracy: 0.8076\n",
      "Epoch 39/100\n",
      "14889/14889 [==============================] - 0s 34us/step - loss: 0.3686 - accuracy: 0.8073 - val_loss: 0.3403 - val_accuracy: 0.8076\n",
      "Epoch 40/100\n",
      "14889/14889 [==============================] - 0s 33us/step - loss: 0.3503 - accuracy: 0.8105 - val_loss: 0.3278 - val_accuracy: 0.8080\n",
      "Epoch 41/100\n",
      "14889/14889 [==============================] - 0s 33us/step - loss: 0.3377 - accuracy: 0.8140 - val_loss: 0.3185 - val_accuracy: 0.8122\n",
      "Epoch 42/100\n",
      "14889/14889 [==============================] - 0s 33us/step - loss: 0.3281 - accuracy: 0.8193 - val_loss: 0.3111 - val_accuracy: 0.8174\n",
      "Epoch 43/100\n",
      "14889/14889 [==============================] - 0s 33us/step - loss: 0.3195 - accuracy: 0.8271 - val_loss: 0.3049 - val_accuracy: 0.8257\n",
      "Epoch 44/100\n",
      "14889/14889 [==============================] - 0s 34us/step - loss: 0.3136 - accuracy: 0.8348 - val_loss: 0.2994 - val_accuracy: 0.8346\n",
      "Epoch 45/100\n",
      "14889/14889 [==============================] - 0s 33us/step - loss: 0.3069 - accuracy: 0.8458 - val_loss: 0.2945 - val_accuracy: 0.8420\n",
      "Epoch 46/100\n",
      "14889/14889 [==============================] - 0s 33us/step - loss: 0.3018 - accuracy: 0.8532 - val_loss: 0.2900 - val_accuracy: 0.8519\n",
      "Epoch 47/100\n",
      "14889/14889 [==============================] - 0s 33us/step - loss: 0.2972 - accuracy: 0.8595 - val_loss: 0.2858 - val_accuracy: 0.8618\n",
      "Epoch 48/100\n",
      "14889/14889 [==============================] - 0s 33us/step - loss: 0.2926 - accuracy: 0.8679 - val_loss: 0.2818 - val_accuracy: 0.8702\n"
     ]
    },
    {
     "name": "stdout",
     "output_type": "stream",
     "text": [
      "Epoch 49/100\n",
      "14889/14889 [==============================] - 0s 33us/step - loss: 0.2885 - accuracy: 0.8722 - val_loss: 0.2781 - val_accuracy: 0.8769\n",
      "Epoch 50/100\n",
      "14889/14889 [==============================] - 0s 33us/step - loss: 0.2847 - accuracy: 0.8794 - val_loss: 0.2743 - val_accuracy: 0.8837\n",
      "Epoch 51/100\n",
      "14889/14889 [==============================] - 0s 33us/step - loss: 0.2800 - accuracy: 0.8841 - val_loss: 0.2708 - val_accuracy: 0.8896\n",
      "Epoch 52/100\n",
      "14889/14889 [==============================] - 1s 36us/step - loss: 0.2768 - accuracy: 0.8868 - val_loss: 0.2673 - val_accuracy: 0.8938\n",
      "Epoch 53/100\n",
      "14889/14889 [==============================] - 0s 34us/step - loss: 0.2732 - accuracy: 0.8914 - val_loss: 0.2639 - val_accuracy: 0.8980\n",
      "Epoch 54/100\n",
      "14889/14889 [==============================] - 0s 33us/step - loss: 0.2690 - accuracy: 0.8971 - val_loss: 0.2604 - val_accuracy: 0.9021\n",
      "Epoch 55/100\n",
      "14889/14889 [==============================] - 1s 34us/step - loss: 0.2653 - accuracy: 0.8976 - val_loss: 0.2571 - val_accuracy: 0.9047\n",
      "Epoch 56/100\n",
      "14889/14889 [==============================] - 1s 34us/step - loss: 0.2615 - accuracy: 0.9007 - val_loss: 0.2536 - val_accuracy: 0.9075\n",
      "Epoch 57/100\n",
      "14889/14889 [==============================] - 0s 33us/step - loss: 0.2585 - accuracy: 0.9027 - val_loss: 0.2502 - val_accuracy: 0.9105\n",
      "Epoch 58/100\n",
      "14889/14889 [==============================] - 0s 33us/step - loss: 0.2550 - accuracy: 0.9043 - val_loss: 0.2467 - val_accuracy: 0.9132\n",
      "Epoch 59/100\n",
      "14889/14889 [==============================] - 0s 33us/step - loss: 0.2513 - accuracy: 0.9061 - val_loss: 0.2432 - val_accuracy: 0.9140\n",
      "Epoch 60/100\n",
      "14889/14889 [==============================] - 0s 33us/step - loss: 0.2472 - accuracy: 0.9100 - val_loss: 0.2396 - val_accuracy: 0.9158\n",
      "Epoch 61/100\n",
      "14889/14889 [==============================] - 0s 33us/step - loss: 0.2433 - accuracy: 0.9093 - val_loss: 0.2359 - val_accuracy: 0.9172\n",
      "Epoch 62/100\n",
      "14889/14889 [==============================] - 0s 33us/step - loss: 0.2395 - accuracy: 0.9121 - val_loss: 0.2321 - val_accuracy: 0.9188\n",
      "Epoch 63/100\n",
      "14889/14889 [==============================] - 0s 33us/step - loss: 0.2361 - accuracy: 0.9132 - val_loss: 0.2280 - val_accuracy: 0.9194\n",
      "Epoch 64/100\n",
      "14889/14889 [==============================] - 0s 33us/step - loss: 0.2319 - accuracy: 0.9124 - val_loss: 0.2237 - val_accuracy: 0.9194\n",
      "Epoch 65/100\n",
      "14889/14889 [==============================] - 0s 33us/step - loss: 0.2270 - accuracy: 0.9162 - val_loss: 0.2193 - val_accuracy: 0.9202\n",
      "Epoch 66/100\n",
      "14889/14889 [==============================] - 1s 39us/step - loss: 0.2226 - accuracy: 0.9164 - val_loss: 0.2145 - val_accuracy: 0.9202\n",
      "Epoch 67/100\n",
      "14889/14889 [==============================] - 1s 36us/step - loss: 0.2178 - accuracy: 0.9169 - val_loss: 0.2095 - val_accuracy: 0.9198\n",
      "Epoch 68/100\n",
      "14889/14889 [==============================] - 1s 34us/step - loss: 0.2115 - accuracy: 0.9191 - val_loss: 0.2042 - val_accuracy: 0.9196\n",
      "Epoch 69/100\n",
      "14889/14889 [==============================] - 0s 33us/step - loss: 0.2056 - accuracy: 0.9189 - val_loss: 0.1984 - val_accuracy: 0.9198\n",
      "Epoch 70/100\n",
      "14889/14889 [==============================] - 0s 33us/step - loss: 0.2013 - accuracy: 0.9187 - val_loss: 0.1925 - val_accuracy: 0.9204\n",
      "Epoch 71/100\n",
      "14889/14889 [==============================] - 0s 33us/step - loss: 0.1946 - accuracy: 0.9205 - val_loss: 0.1867 - val_accuracy: 0.9206\n",
      "Epoch 72/100\n",
      "14889/14889 [==============================] - 1s 34us/step - loss: 0.1910 - accuracy: 0.9197 - val_loss: 0.1812 - val_accuracy: 0.9214\n",
      "Epoch 73/100\n",
      "14889/14889 [==============================] - 0s 33us/step - loss: 0.1842 - accuracy: 0.9228 - val_loss: 0.1763 - val_accuracy: 0.9226\n",
      "Epoch 74/100\n",
      "14889/14889 [==============================] - 1s 34us/step - loss: 0.1812 - accuracy: 0.9250 - val_loss: 0.1720 - val_accuracy: 0.9244\n",
      "Epoch 75/100\n",
      "14889/14889 [==============================] - 0s 33us/step - loss: 0.1774 - accuracy: 0.9259 - val_loss: 0.1679 - val_accuracy: 0.9269\n",
      "Epoch 76/100\n",
      "14889/14889 [==============================] - 0s 33us/step - loss: 0.1712 - accuracy: 0.9284 - val_loss: 0.1638 - val_accuracy: 0.9281\n",
      "Epoch 77/100\n",
      "14889/14889 [==============================] - 0s 34us/step - loss: 0.1680 - accuracy: 0.9288 - val_loss: 0.1601 - val_accuracy: 0.9301\n",
      "Epoch 78/100\n",
      "14889/14889 [==============================] - 0s 34us/step - loss: 0.1635 - accuracy: 0.9314 - val_loss: 0.1568 - val_accuracy: 0.9341\n",
      "Epoch 79/100\n",
      "14889/14889 [==============================] - 0s 33us/step - loss: 0.1619 - accuracy: 0.9330 - val_loss: 0.1535 - val_accuracy: 0.9349\n",
      "Epoch 80/100\n",
      "14889/14889 [==============================] - 0s 33us/step - loss: 0.1562 - accuracy: 0.9353 - val_loss: 0.1504 - val_accuracy: 0.9353\n",
      "Epoch 81/100\n",
      "14889/14889 [==============================] - 0s 33us/step - loss: 0.1543 - accuracy: 0.9366 - val_loss: 0.1477 - val_accuracy: 0.9373\n",
      "Epoch 82/100\n",
      "14889/14889 [==============================] - 0s 33us/step - loss: 0.1499 - accuracy: 0.9369 - val_loss: 0.1448 - val_accuracy: 0.9379\n",
      "Epoch 83/100\n",
      "14889/14889 [==============================] - 0s 33us/step - loss: 0.1483 - accuracy: 0.9396 - val_loss: 0.1424 - val_accuracy: 0.9400\n",
      "Epoch 84/100\n",
      "14889/14889 [==============================] - 0s 33us/step - loss: 0.1469 - accuracy: 0.9387 - val_loss: 0.1400 - val_accuracy: 0.9406\n",
      "Epoch 85/100\n",
      "14889/14889 [==============================] - 0s 33us/step - loss: 0.1435 - accuracy: 0.9396 - val_loss: 0.1380 - val_accuracy: 0.9414\n",
      "Epoch 86/100\n",
      "14889/14889 [==============================] - 0s 33us/step - loss: 0.1416 - accuracy: 0.9419 - val_loss: 0.1357 - val_accuracy: 0.9416\n",
      "Epoch 87/100\n",
      "14889/14889 [==============================] - 0s 33us/step - loss: 0.1394 - accuracy: 0.9404 - val_loss: 0.1337 - val_accuracy: 0.9418\n",
      "Epoch 88/100\n",
      "14889/14889 [==============================] - 0s 33us/step - loss: 0.1377 - accuracy: 0.9424 - val_loss: 0.1317 - val_accuracy: 0.9416\n",
      "Epoch 89/100\n",
      "14889/14889 [==============================] - 0s 33us/step - loss: 0.1360 - accuracy: 0.9432 - val_loss: 0.1298 - val_accuracy: 0.9422\n",
      "Epoch 90/100\n",
      "14889/14889 [==============================] - 1s 34us/step - loss: 0.1319 - accuracy: 0.9432 - val_loss: 0.1279 - val_accuracy: 0.9428\n",
      "Epoch 91/100\n",
      "14889/14889 [==============================] - 1s 34us/step - loss: 0.1320 - accuracy: 0.9447 - val_loss: 0.1261 - val_accuracy: 0.9430\n",
      "Epoch 92/100\n",
      "14889/14889 [==============================] - 1s 34us/step - loss: 0.1302 - accuracy: 0.9451 - val_loss: 0.1244 - val_accuracy: 0.9442\n",
      "Epoch 93/100\n",
      "14889/14889 [==============================] - 0s 33us/step - loss: 0.1270 - accuracy: 0.9461 - val_loss: 0.1227 - val_accuracy: 0.9432\n",
      "Epoch 94/100\n",
      "14889/14889 [==============================] - 0s 33us/step - loss: 0.1264 - accuracy: 0.9469 - val_loss: 0.1211 - val_accuracy: 0.9448\n",
      "Epoch 95/100\n",
      "14889/14889 [==============================] - 0s 33us/step - loss: 0.1253 - accuracy: 0.9466 - val_loss: 0.1196 - val_accuracy: 0.9438\n",
      "Epoch 96/100\n",
      "14889/14889 [==============================] - 0s 34us/step - loss: 0.1239 - accuracy: 0.9480 - val_loss: 0.1182 - val_accuracy: 0.9456\n",
      "Epoch 97/100\n",
      "14889/14889 [==============================] - 0s 33us/step - loss: 0.1220 - accuracy: 0.9497 - val_loss: 0.1168 - val_accuracy: 0.9448\n",
      "Epoch 98/100\n",
      "14889/14889 [==============================] - 0s 33us/step - loss: 0.1195 - accuracy: 0.9490 - val_loss: 0.1150 - val_accuracy: 0.9470\n",
      "Epoch 99/100\n",
      "14889/14889 [==============================] - 0s 33us/step - loss: 0.1196 - accuracy: 0.9505 - val_loss: 0.1137 - val_accuracy: 0.9488\n",
      "Epoch 100/100\n",
      "14889/14889 [==============================] - 0s 33us/step - loss: 0.1201 - accuracy: 0.9503 - val_loss: 0.1122 - val_accuracy: 0.9537\n"
     ]
    },
    {
     "data": {
      "text/plain": [
       "<keras.callbacks.callbacks.History at 0x1dd2ad4b448>"
      ]
     },
     "execution_count": 81,
     "metadata": {},
     "output_type": "execute_result"
    }
   ],
   "source": [
    "keras_model = gru_model(Input(shape=X_train_val.shape[1:]), y_train_val.shape[1], l1Reg=yamlConfig['L1Reg'] )\n",
    "startlearningrate=0.0001\n",
    "adam = Adam(lr=startlearningrate)\n",
    "keras_model.compile(optimizer=adam, loss=[yamlConfig['KerasLoss']], metrics=['accuracy'])\n",
    "callbacks=None\n",
    "\n",
    "keras_model.fit(X_train_val, y_train_val, batch_size = 1024, epochs = 100,\n",
    "                validation_split = 0.25, shuffle = True, callbacks = None)"
   ]
  },
  {
   "cell_type": "code",
   "execution_count": 82,
   "metadata": {},
   "outputs": [
    {
     "data": {
      "text/plain": [
       "Text(0.25, 0.9, 'GRU')"
      ]
     },
     "execution_count": 82,
     "metadata": {},
     "output_type": "execute_result"
    },
    {
     "data": {
      "image/png": "[encoded data removed]",
      "text/plain": [
       "<Figure size 432x288 with 1 Axes>"
      ]
     },
     "metadata": {
      "needs_background": "light"
     },
     "output_type": "display_data"
    }
   ],
   "source": [
    "if 'j_index' in labels: labels.remove('j_index')\n",
    "\n",
    "predict_test = keras_model.predict(X_test)\n",
    "\n",
    "df = pd.DataFrame()\n",
    "\n",
    "fpr = {}\n",
    "tpr = {}\n",
    "auc1 = {}\n",
    "\n",
    "plt.figure()       \n",
    "for i, label in enumerate(labels):\n",
    "    df[label] = y_test[:,i]\n",
    "    df[label + '_pred'] = predict_test[:,i]\n",
    "\n",
    "    fpr[label], tpr[label], threshold = roc_curve(df[label],df[label+'_pred'])\n",
    "\n",
    "    auc1[label] = auc(fpr[label], tpr[label])\n",
    "\n",
    "    plt.plot(tpr[label],fpr[label],label='%s tagger, AUC = %.1f%%'%(label.replace('j_',''),auc1[label]*100.))\n",
    "plt.semilogy()\n",
    "plt.xlabel(\"Signal Efficiency\")\n",
    "plt.ylabel(\"Background Efficiency\")\n",
    "plt.ylim(0.001,1)\n",
    "plt.grid(True)\n",
    "plt.legend(loc='upper left')\n",
    "plt.figtext(0.25, 0.90,'GRU',fontweight='bold', wrap=True, horizontalalignment='right', fontsize=14)"
   ]
  },
  {
   "cell_type": "code",
   "execution_count": null,
   "metadata": {},
   "outputs": [],
   "source": []
  }
 ],
 "metadata": {
  "kernelspec": {
   "display_name": "Python 3",
   "language": "python",
   "name": "python3"
  },
  "language_info": {
   "codemirror_mode": {
    "name": "ipython",
    "version": 3
   },
   "file_extension": ".py",
   "mimetype": "text/x-python",
   "name": "python",
   "nbconvert_exporter": "python",
   "pygments_lexer": "ipython3",
   "version": "3.7.6"
  }
 },
 "nbformat": 4,
 "nbformat_minor": 4
}
