{
 "cells": [
  {
   "cell_type": "code",
   "execution_count": 32,
   "metadata": {},
   "outputs": [],
   "source": [
    "import utils\n",
    "import classes\n",
    "import h5py\n",
    "  \n",
    "from keras.layers import *\n",
    "from keras import Model\n",
    "from keras.models import Sequential\n",
    "from keras.layers.advanced_activations import PReLU\n",
    "from keras import regularizers\n",
    "import numpy as np\n",
    "import keras, time\n",
    "import keras.backend as K\n",
    "import tensorflow as tf\n",
    "import matplotlib.pyplot as plt\n"
   ]
  },
  {
   "cell_type": "code",
   "execution_count": 3,
   "metadata": {},
   "outputs": [
    {
     "name": "stdout",
     "output_type": "stream",
     "text": [
      "Loading indices from None to 100000\n",
      "\n",
      "Mean label\n",
      "0.0\n",
      "\n"
     ]
    }
   ],
   "source": [
    "bg_momenta,bg_labels=utils.loadJetMomentaBenchmark(\"background.h5\",nConstituents=40)"
   ]
  },
  {
   "cell_type": "code",
   "execution_count": 4,
   "metadata": {},
   "outputs": [],
   "source": [
    "bg_dataset= h5py.File(\"bg_dataset.h5\", \"w\")"
   ]
  },
  {
   "cell_type": "code",
   "execution_count": 5,
   "metadata": {},
   "outputs": [
    {
     "data": {
      "text/plain": [
       "<HDF5 dataset \"labels\": shape (100000, 2), type \"<f4\">"
      ]
     },
     "execution_count": 5,
     "metadata": {},
     "output_type": "execute_result"
    }
   ],
   "source": [
    "bg_dataset.create_dataset('momenta', data=bg_momenta)\n",
    "bg_dataset.create_dataset('labels', data=bg_labels)"
   ]
  },
  {
   "cell_type": "code",
   "execution_count": 6,
   "metadata": {},
   "outputs": [
    {
     "name": "stdout",
     "output_type": "stream",
     "text": [
      "Loading indices from None to 100000\n",
      "\n",
      "Mean label\n",
      "1.0\n",
      "\n"
     ]
    }
   ],
   "source": [
    "sig_momenta,sig_labels=utils.loadJetMomentaBenchmark(\"signal.h5\",nConstituents=40)\n",
    "sig_dataset= h5py.File(\"sig_dataset.h5\", \"w\")"
   ]
  },
  {
   "cell_type": "code",
   "execution_count": 7,
   "metadata": {},
   "outputs": [
    {
     "data": {
      "text/plain": [
       "<HDF5 dataset \"labels\": shape (100000, 2), type \"<f4\">"
      ]
     },
     "execution_count": 7,
     "metadata": {},
     "output_type": "execute_result"
    }
   ],
   "source": [
    "sig_dataset.create_dataset('momenta', data=sig_momenta)\n",
    "sig_dataset.create_dataset('labels', data=sig_labels)"
   ]
  },
  {
   "cell_type": "code",
   "execution_count": 8,
   "metadata": {},
   "outputs": [],
   "source": [
    "\n",
    "def loadData(filenames, nJets=slice(200000), nConstituents=40):\n",
    "    with h5py.File(filenames[0], 'r') as f:\n",
    "        bg_momenta = f['momenta'][nJets, :nConstituents, :]\n",
    "        bg_labels = np.zeros(len(bg_momenta))\n",
    "    \n",
    "    with h5py.File(filenames[1], 'r') as f:\n",
    "        sig_momenta = f['momenta'][nJets, :nConstituents, :]\n",
    "        sig_labels = np.ones(len(sig_momenta))\n",
    "\n",
    "    momenta = np.append(bg_momenta, sig_momenta, axis=0)\n",
    "\n",
    "    labels = keras.utils.to_categorical(\n",
    "            np.append(bg_labels, sig_labels), 2)\n",
    "    indices = np.random.permutation(len(labels))\n",
    "    print(momenta.shape, labels.shape)\n",
    "    return momenta[indices], labels[indices]\n"
   ]
  },
  {
   "cell_type": "code",
   "execution_count": 41,
   "metadata": {},
   "outputs": [
    {
     "name": "stdout",
     "output_type": "stream",
     "text": [
      "(200000, 4, 40) (200000, 2)\n"
     ]
    }
   ],
   "source": [
    "vectors, labels = loadData(\n",
    "                filenames = [\"bg_dataset.h5\", \"sig_dataset.h5\"]\n",
    "                )"
   ]
  },
  {
   "cell_type": "code",
   "execution_count": 10,
   "metadata": {},
   "outputs": [],
   "source": [
    "    model = classes.LoLaClassifier(nConstituents=40, nAdded=10).model\n"
   ]
  },
  {
   "cell_type": "code",
   "execution_count": 11,
   "metadata": {},
   "outputs": [],
   "source": [
    "    model.compile(\n",
    "            optimizer=keras.optimizers.Adam(lr=0.0001), \n",
    "            loss='categorical_crossentropy', \n",
    "            metrics=['acc'])\n"
   ]
  },
  {
   "cell_type": "code",
   "execution_count": 12,
   "metadata": {},
   "outputs": [
    {
     "name": "stdout",
     "output_type": "stream",
     "text": [
      "Model: \"model_1\"\n",
      "_________________________________________________________________\n",
      "Layer (type)                 Output Shape              Param #   \n",
      "=================================================================\n",
      "input_1 (InputLayer)         (None, 4, 40)             0         \n",
      "_________________________________________________________________\n",
      "cola (CoLa)                  (None, 4, 50)             400       \n",
      "_________________________________________________________________\n",
      "lola (LoLa)                  (None, 7, 50)             2704      \n",
      "_________________________________________________________________\n",
      "flatten_1 (Flatten)          (None, 350)               0         \n",
      "_________________________________________________________________\n",
      "dense_1 (Dense)              (None, 100)               35100     \n",
      "_________________________________________________________________\n",
      "dense_2 (Dense)              (None, 50)                5050      \n",
      "_________________________________________________________________\n",
      "dense_3 (Dense)              (None, 10)                510       \n",
      "_________________________________________________________________\n",
      "dense_4 (Dense)              (None, 2)                 22        \n",
      "=================================================================\n",
      "Total params: 43,786\n",
      "Trainable params: 43,786\n",
      "Non-trainable params: 0\n",
      "_________________________________________________________________\n",
      "None\n"
     ]
    }
   ],
   "source": [
    "    print(model.summary())\n"
   ]
  },
  {
   "cell_type": "code",
   "execution_count": 13,
   "metadata": {},
   "outputs": [
    {
     "name": "stdout",
     "output_type": "stream",
     "text": [
      "WARNING:tensorflow:From D:\\Users\\Azure\\anaconda3\\lib\\site-packages\\tensorflow\\python\\ops\\math_grad.py:1250: add_dispatch_support.<locals>.wrapper (from tensorflow.python.ops.array_ops) is deprecated and will be removed in a future version.\n",
      "Instructions for updating:\n",
      "Use tf.where in 2.0, which has the same broadcast rule as np.where\n",
      "WARNING:tensorflow:From D:\\Users\\Azure\\anaconda3\\lib\\site-packages\\keras\\backend\\tensorflow_backend.py:422: The name tf.global_variables is deprecated. Please use tf.compat.v1.global_variables instead.\n",
      "\n",
      "Train on 180000 samples, validate on 20000 samples\n",
      "Epoch 1/100\n",
      " - 7s - loss: 3.2457 - acc: 0.7717 - val_loss: 0.6420 - val_acc: 0.7990\n",
      "Epoch 2/100\n",
      " - 7s - loss: 0.5239 - acc: 0.8241 - val_loss: 0.4687 - val_acc: 0.8429\n",
      "Epoch 3/100\n",
      " - 7s - loss: 0.4482 - acc: 0.8499 - val_loss: 0.4361 - val_acc: 0.8551\n",
      "Epoch 4/100\n",
      " - 7s - loss: 0.4261 - acc: 0.8578 - val_loss: 0.4203 - val_acc: 0.8698\n",
      "Epoch 5/100\n",
      " - 10s - loss: 0.4118 - acc: 0.8651 - val_loss: 0.4051 - val_acc: 0.8669\n",
      "Epoch 6/100\n",
      " - 10s - loss: 0.3996 - acc: 0.8668 - val_loss: 0.3917 - val_acc: 0.8708\n",
      "Epoch 7/100\n",
      " - 9s - loss: 0.3880 - acc: 0.8715 - val_loss: 0.3809 - val_acc: 0.8763\n",
      "Epoch 8/100\n",
      " - 9s - loss: 0.3766 - acc: 0.8745 - val_loss: 0.3711 - val_acc: 0.8799\n",
      "Epoch 9/100\n",
      " - 9s - loss: 0.3665 - acc: 0.8768 - val_loss: 0.3603 - val_acc: 0.8828\n",
      "Epoch 10/100\n",
      " - 8s - loss: 0.3569 - acc: 0.8801 - val_loss: 0.3552 - val_acc: 0.8899\n",
      "Epoch 11/100\n",
      " - 7s - loss: 0.3457 - acc: 0.8831 - val_loss: 0.3378 - val_acc: 0.8834\n",
      "Epoch 12/100\n",
      " - 7s - loss: 0.3214 - acc: 0.8859 - val_loss: 0.3034 - val_acc: 0.8912\n",
      "Epoch 13/100\n",
      " - 7s - loss: 0.2820 - acc: 0.8897 - val_loss: 0.2702 - val_acc: 0.8935\n",
      "Epoch 14/100\n",
      " - 7s - loss: 0.2638 - acc: 0.8936 - val_loss: 0.2589 - val_acc: 0.8971\n",
      "Epoch 15/100\n",
      " - 7s - loss: 0.2543 - acc: 0.8964 - val_loss: 0.2504 - val_acc: 0.8996\n",
      "Epoch 16/100\n",
      " - 7s - loss: 0.2484 - acc: 0.8984 - val_loss: 0.2462 - val_acc: 0.9011\n",
      "Epoch 17/100\n",
      " - 7s - loss: 0.2439 - acc: 0.8995 - val_loss: 0.2419 - val_acc: 0.9018\n",
      "Epoch 18/100\n",
      " - 7s - loss: 0.2399 - acc: 0.9007 - val_loss: 0.2389 - val_acc: 0.9024\n",
      "Epoch 19/100\n",
      " - 7s - loss: 0.2372 - acc: 0.9016 - val_loss: 0.2346 - val_acc: 0.9042\n",
      "Epoch 20/100\n",
      " - 7s - loss: 0.2347 - acc: 0.9026 - val_loss: 0.2332 - val_acc: 0.9038\n",
      "Epoch 21/100\n",
      " - 7s - loss: 0.2323 - acc: 0.9027 - val_loss: 0.2312 - val_acc: 0.9048\n",
      "Epoch 22/100\n",
      " - 7s - loss: 0.2307 - acc: 0.9038 - val_loss: 0.2299 - val_acc: 0.9040\n",
      "Epoch 23/100\n",
      " - 7s - loss: 0.2289 - acc: 0.9038 - val_loss: 0.2276 - val_acc: 0.9051\n",
      "Epoch 24/100\n",
      " - 7s - loss: 0.2277 - acc: 0.9040 - val_loss: 0.2281 - val_acc: 0.9061\n",
      "Epoch 25/100\n",
      " - 7s - loss: 0.2258 - acc: 0.9046 - val_loss: 0.2265 - val_acc: 0.9057\n",
      "Epoch 26/100\n",
      " - 7s - loss: 0.2247 - acc: 0.9049 - val_loss: 0.2250 - val_acc: 0.9068\n",
      "Epoch 27/100\n",
      " - 8s - loss: 0.2237 - acc: 0.9049 - val_loss: 0.2242 - val_acc: 0.9067\n",
      "Epoch 28/100\n",
      " - 8s - loss: 0.2221 - acc: 0.9058 - val_loss: 0.2236 - val_acc: 0.9064\n",
      "Epoch 29/100\n",
      " - 7s - loss: 0.2209 - acc: 0.9058 - val_loss: 0.2210 - val_acc: 0.9078\n",
      "Epoch 30/100\n",
      " - 7s - loss: 0.2202 - acc: 0.9059 - val_loss: 0.2219 - val_acc: 0.9081\n",
      "Epoch 31/100\n",
      " - 8s - loss: 0.2190 - acc: 0.9064 - val_loss: 0.2212 - val_acc: 0.9072\n",
      "Epoch 32/100\n",
      " - 10s - loss: 0.2178 - acc: 0.9065 - val_loss: 0.2208 - val_acc: 0.9081\n",
      "Epoch 33/100\n",
      " - 8s - loss: 0.2171 - acc: 0.9067 - val_loss: 0.2253 - val_acc: 0.9069\n",
      "Epoch 34/100\n",
      " - 7s - loss: 0.2160 - acc: 0.9069 - val_loss: 0.2205 - val_acc: 0.9088\n",
      "Epoch 35/100\n",
      " - 8s - loss: 0.2152 - acc: 0.9072 - val_loss: 0.2209 - val_acc: 0.9078\n",
      "Epoch 36/100\n",
      " - 8s - loss: 0.2140 - acc: 0.9075 - val_loss: 0.2192 - val_acc: 0.9082\n",
      "Epoch 37/100\n",
      " - 7s - loss: 0.2131 - acc: 0.9080 - val_loss: 0.2192 - val_acc: 0.9082\n",
      "Epoch 38/100\n",
      " - 8s - loss: 0.2124 - acc: 0.9081 - val_loss: 0.2186 - val_acc: 0.9089\n",
      "Epoch 39/100\n",
      " - 8s - loss: 0.2116 - acc: 0.9081 - val_loss: 0.2196 - val_acc: 0.9088\n",
      "Epoch 40/100\n",
      " - 8s - loss: 0.2108 - acc: 0.9084 - val_loss: 0.2226 - val_acc: 0.9083\n",
      "Epoch 41/100\n",
      " - 9s - loss: 0.2102 - acc: 0.9089 - val_loss: 0.2186 - val_acc: 0.9089\n",
      "Epoch 42/100\n",
      " - 10s - loss: 0.2092 - acc: 0.9088 - val_loss: 0.2174 - val_acc: 0.9086\n",
      "Epoch 43/100\n",
      " - 9s - loss: 0.2083 - acc: 0.9089 - val_loss: 0.2185 - val_acc: 0.9076\n",
      "Epoch 44/100\n",
      " - 9s - loss: 0.2080 - acc: 0.9093 - val_loss: 0.2163 - val_acc: 0.9097\n",
      "Epoch 45/100\n",
      " - 9s - loss: 0.2066 - acc: 0.9097 - val_loss: 0.2171 - val_acc: 0.9086\n",
      "Epoch 46/100\n",
      " - 9s - loss: 0.2062 - acc: 0.9098 - val_loss: 0.2181 - val_acc: 0.9089\n",
      "Epoch 47/100\n",
      " - 9s - loss: 0.2055 - acc: 0.9098 - val_loss: 0.2185 - val_acc: 0.9085\n",
      "Epoch 48/100\n",
      " - 8s - loss: 0.2047 - acc: 0.9103 - val_loss: 0.2167 - val_acc: 0.9087\n",
      "Epoch 49/100\n",
      " - 8s - loss: 0.2041 - acc: 0.9102 - val_loss: 0.2161 - val_acc: 0.9093\n",
      "Epoch 50/100\n",
      " - 7s - loss: 0.2040 - acc: 0.9104 - val_loss: 0.2163 - val_acc: 0.9089\n",
      "Epoch 51/100\n",
      " - 7s - loss: 0.2028 - acc: 0.9107 - val_loss: 0.2188 - val_acc: 0.9083\n",
      "Epoch 52/100\n",
      " - 7s - loss: 0.2023 - acc: 0.9104 - val_loss: 0.2146 - val_acc: 0.9092\n",
      "Epoch 53/100\n",
      " - 7s - loss: 0.2020 - acc: 0.9108 - val_loss: 0.2186 - val_acc: 0.9096\n",
      "Epoch 54/100\n",
      " - 7s - loss: 0.2014 - acc: 0.9111 - val_loss: 0.2151 - val_acc: 0.9085\n",
      "Epoch 55/100\n",
      " - 7s - loss: 0.2006 - acc: 0.9111 - val_loss: 0.2143 - val_acc: 0.9098\n",
      "Epoch 56/100\n",
      " - 7s - loss: 0.1999 - acc: 0.9114 - val_loss: 0.2160 - val_acc: 0.9097\n",
      "Epoch 57/100\n",
      " - 7s - loss: 0.1994 - acc: 0.9116 - val_loss: 0.2175 - val_acc: 0.9091\n",
      "Epoch 58/100\n",
      " - 7s - loss: 0.1994 - acc: 0.9114 - val_loss: 0.2160 - val_acc: 0.9100\n",
      "Epoch 59/100\n",
      " - 7s - loss: 0.1986 - acc: 0.9116 - val_loss: 0.2173 - val_acc: 0.9089\n",
      "Epoch 60/100\n",
      " - 7s - loss: 0.1981 - acc: 0.9122 - val_loss: 0.2195 - val_acc: 0.9093\n",
      "Epoch 61/100\n",
      " - 7s - loss: 0.1974 - acc: 0.9119 - val_loss: 0.2172 - val_acc: 0.9094\n",
      "Epoch 62/100\n",
      " - 7s - loss: 0.1970 - acc: 0.9121 - val_loss: 0.2146 - val_acc: 0.9092\n",
      "Epoch 63/100\n",
      " - 7s - loss: 0.1961 - acc: 0.9147 - val_loss: 0.2177 - val_acc: 0.9087\n",
      "Epoch 64/100\n",
      " - 7s - loss: 0.1960 - acc: 0.9168 - val_loss: 0.2175 - val_acc: 0.9108\n",
      "Epoch 65/100\n",
      " - 7s - loss: 0.1961 - acc: 0.9167 - val_loss: 0.2163 - val_acc: 0.9123\n",
      "Epoch 66/100\n",
      " - 7s - loss: 0.1950 - acc: 0.9172 - val_loss: 0.2217 - val_acc: 0.9069\n",
      "Epoch 67/100\n",
      " - 7s - loss: 0.1947 - acc: 0.9175 - val_loss: 0.2165 - val_acc: 0.9114\n",
      "Epoch 68/100\n",
      " - 7s - loss: 0.1940 - acc: 0.9179 - val_loss: 0.2239 - val_acc: 0.9060\n",
      "Epoch 69/100\n",
      " - 7s - loss: 0.1936 - acc: 0.9177 - val_loss: 0.2218 - val_acc: 0.9072\n",
      "Epoch 70/100\n",
      " - 7s - loss: 0.1938 - acc: 0.9181 - val_loss: 0.2169 - val_acc: 0.9125\n",
      "Epoch 71/100\n",
      " - 7s - loss: 0.1929 - acc: 0.9186 - val_loss: 0.2194 - val_acc: 0.9097\n",
      "Epoch 72/100\n",
      " - 7s - loss: 0.1926 - acc: 0.9186 - val_loss: 0.2188 - val_acc: 0.9105\n",
      "Epoch 73/100\n",
      " - 7s - loss: 0.1925 - acc: 0.9188 - val_loss: 0.2202 - val_acc: 0.9104\n",
      "Epoch 74/100\n",
      " - 7s - loss: 0.1919 - acc: 0.9189 - val_loss: 0.2203 - val_acc: 0.9115\n",
      "Epoch 75/100\n",
      " - 7s - loss: 0.1914 - acc: 0.9188 - val_loss: 0.2169 - val_acc: 0.9137\n",
      "Epoch 76/100\n",
      " - 7s - loss: 0.1907 - acc: 0.9197 - val_loss: 0.2207 - val_acc: 0.9097\n",
      "Epoch 77/100\n",
      " - 7s - loss: 0.1908 - acc: 0.9199 - val_loss: 0.2178 - val_acc: 0.9129\n",
      "Epoch 78/100\n",
      " - 7s - loss: 0.1900 - acc: 0.9199 - val_loss: 0.2187 - val_acc: 0.9086\n",
      "Epoch 79/100\n",
      " - 7s - loss: 0.1893 - acc: 0.9201 - val_loss: 0.2226 - val_acc: 0.9107\n",
      "Epoch 80/100\n",
      " - 7s - loss: 0.1896 - acc: 0.9197 - val_loss: 0.2160 - val_acc: 0.9107\n",
      "Epoch 81/100\n",
      " - 7s - loss: 0.1890 - acc: 0.9208 - val_loss: 0.2194 - val_acc: 0.9117\n",
      "Epoch 82/100\n",
      " - 7s - loss: 0.1887 - acc: 0.9207 - val_loss: 0.2215 - val_acc: 0.9125\n",
      "Epoch 83/100\n",
      " - 7s - loss: 0.1884 - acc: 0.9206 - val_loss: 0.2213 - val_acc: 0.9121\n",
      "Epoch 84/100\n",
      " - 7s - loss: 0.1881 - acc: 0.9209 - val_loss: 0.2178 - val_acc: 0.9121\n",
      "Epoch 85/100\n",
      " - 7s - loss: 0.1873 - acc: 0.9212 - val_loss: 0.2203 - val_acc: 0.9133\n",
      "Epoch 86/100\n",
      " - 7s - loss: 0.1872 - acc: 0.9211 - val_loss: 0.2195 - val_acc: 0.9132\n",
      "Epoch 87/100\n",
      " - 7s - loss: 0.1869 - acc: 0.9215 - val_loss: 0.2180 - val_acc: 0.9141\n",
      "Epoch 88/100\n",
      " - 7s - loss: 0.1868 - acc: 0.9219 - val_loss: 0.2187 - val_acc: 0.9103\n",
      "Epoch 89/100\n",
      " - 7s - loss: 0.1863 - acc: 0.9217 - val_loss: 0.2210 - val_acc: 0.9100\n",
      "Epoch 90/100\n",
      " - 7s - loss: 0.1858 - acc: 0.9220 - val_loss: 0.2163 - val_acc: 0.9124\n"
     ]
    },
    {
     "name": "stdout",
     "output_type": "stream",
     "text": [
      "Epoch 91/100\n",
      " - 7s - loss: 0.1858 - acc: 0.9217 - val_loss: 0.2199 - val_acc: 0.9124\n",
      "Epoch 92/100\n",
      " - 7s - loss: 0.1851 - acc: 0.9222 - val_loss: 0.2232 - val_acc: 0.9123\n",
      "Epoch 93/100\n",
      " - 7s - loss: 0.1847 - acc: 0.9231 - val_loss: 0.2202 - val_acc: 0.9115\n",
      "Epoch 94/100\n",
      " - 7s - loss: 0.1850 - acc: 0.9225 - val_loss: 0.2234 - val_acc: 0.9140\n",
      "Epoch 95/100\n",
      " - 7s - loss: 0.1844 - acc: 0.9228 - val_loss: 0.2224 - val_acc: 0.9135\n",
      "Epoch 96/100\n",
      " - 7s - loss: 0.1842 - acc: 0.9233 - val_loss: 0.2267 - val_acc: 0.9080\n",
      "Epoch 97/100\n",
      " - 7s - loss: 0.1837 - acc: 0.9233 - val_loss: 0.2248 - val_acc: 0.9120\n",
      "Epoch 98/100\n",
      " - 7s - loss: 0.1832 - acc: 0.9234 - val_loss: 0.2225 - val_acc: 0.9129\n",
      "Epoch 99/100\n",
      " - 7s - loss: 0.1829 - acc: 0.9236 - val_loss: 0.2267 - val_acc: 0.9122\n",
      "Epoch 100/100\n",
      " - 7s - loss: 0.1825 - acc: 0.9236 - val_loss: 0.2251 - val_acc: 0.9125\n"
     ]
    }
   ],
   "source": [
    "model111 = model.fit(vectors, labels,\n",
    "        verbose=2,\n",
    "        batch_size=512,\n",
    "        validation_split=0.1,\n",
    "        epochs=100)"
   ]
  },
  {
   "cell_type": "code",
   "execution_count": 14,
   "metadata": {},
   "outputs": [
    {
     "data": {
      "image/png": "[encoded data removed]",
      "text/plain": [
       "<Figure size 432x288 with 1 Axes>"
      ]
     },
     "metadata": {
      "needs_background": "light"
     },
     "output_type": "display_data"
    }
   ],
   "source": [
    "\n",
    "plt.figure()\n",
    "plt.plot(model111.history['loss'])\n",
    "plt.plot(model111.history['val_loss'])\n",
    "plt.title('Model Loss over Epochs')\n",
    "plt.ylabel('Loss')\n",
    "plt.xlabel('Epoch')\n",
    "plt.legend(['training set','validation set'])\n",
    "plt.show()"
   ]
  },
  {
   "cell_type": "code",
   "execution_count": 44,
   "metadata": {},
   "outputs": [],
   "source": [
    "def makeRoc(features_val, labels, labels_val, model):\n",
    "    print('in makeRoc()')\n",
    "    if 'j_index' in labels: labels.remove('j_index')\n",
    "\n",
    "    predict_test = model.predict(features_val)\n",
    "\n",
    "    df = pd.DataFrame()\n",
    "    \n",
    "    fpr = {}\n",
    "    tpr = {}\n",
    "    auc1 = {}\n",
    "    \n",
    "    plt.figure()       \n",
    "    for i, label in enumerate(labels):\n",
    "        df[label] = labels_val[:,i]\n",
    "        df[label + '_pred'] = predict_test[:,i]\n",
    "        \n",
    "        fpr[label], tpr[label], threshold = roc_curve(df[label],df[label+'_pred'])\n",
    "\n",
    "        auc1[label] = auc(fpr[label], tpr[label])\n",
    "            \n",
    "        plt.plot(tpr[label],fpr[label],label='%s tagger, AUC = %.1f%%'%(label.replace('j_',''),auc1[label]*100.))\n",
    "    plt.semilogy()\n",
    "    plt.xlabel(\"Signal Efficiency\")\n",
    "    plt.ylabel(\"Background Efficiency\")\n",
    "    plt.ylim(0.001,1)\n",
    "    plt.grid(True)\n",
    "    plt.legend(loc='upper left')\n",
    "    plt.figtext(0.25, 0.90,'hls4ml',fontweight='bold', wrap=True, horizontalalignment='right', fontsize=14)\n",
    "    #plt.figtext(0.35, 0.90,'preliminary', style='italic', wrap=True, horizontalalignment='center', fontsize=14) \n",
    "    plt.savefig(\"mygraph.png\")\n",
    "#     plt.savefig('%s/ROC.pdf'%(options.outputDir))\n",
    "#     plt.savefig('%s/ROC.pdf' %(outputDir))\n",
    "    return predict_test"
   ]
  },
  {
   "cell_type": "code",
   "execution_count": 34,
   "metadata": {},
   "outputs": [],
   "source": [
    "\n",
    "def loadJetMomenta(filenames, nJets=slice(200000), nConstituents=40):\n",
    "    \"\"\"Load jet momenta from given files\n",
    "    Input:\n",
    "     filenames: (2,) - list containing path to bg and sig jet momenta\n",
    "     nJets: slice - indices for loading data\n",
    "     nConstituents: int giving number of leading pT constituents per jet\n",
    "    Returns:\n",
    "     momenta: (nJets, 4, nConstituents) shuffled array of jet momenta\n",
    "     labels: (nJets, 2) one hot encoded labels for momenta\n",
    "    \"\"\"\n",
    "    print(\"Loading by given slice {}\".format(nJets))\n",
    "    # Load momenta from bg_file\n",
    "    with h5py.File(filenames[0], 'r') as f:\n",
    "        if f['momenta'].shape[-1] == 4:\n",
    "            bg_momenta = f['momenta'][nJets, :nConstituents, :]\n",
    "        elif f['momenta'].shape[-2] == 4:\n",
    "            bg_momenta = f['momenta'][nJets, :, :nConstituents]\n",
    "        else:\n",
    "            print(\"Momenta cannot be loaded\")\n",
    "            exit()\n",
    "        bg_labels = np.zeros(len(bg_momenta))\n",
    "        print(\"\\n{} bg jets loaded from {}\".format(\n",
    "            len(bg_labels), filenames[0]))\n",
    "\n",
    "    # Load momenta from sig_file\n",
    "    with h5py.File(filenames[1], 'r') as f:\n",
    "        if f['momenta'].shape[-1] == 4:\n",
    "            sig_momenta = f['momenta'][nJets, :nConstituents, :]\n",
    "        elif f['momenta'].shape[-2] == 4:\n",
    "            sig_momenta = f['momenta'][nJets, :, :nConstituents]\n",
    "        else:\n",
    "            print(\"Momenta cannot be loaded\")\n",
    "            exit()\n",
    "            \n",
    "        sig_labels = np.ones(len(sig_momenta))\n",
    "        print(\"{} sig jets loaded from {}\\n\\n\".format(\n",
    "            len(sig_labels), filenames[1]))\n",
    "\n",
    "\n",
    "    # Connect momenta, shuffle and return them with corresponding labels\n",
    "    momenta = np.append(bg_momenta, sig_momenta, axis=0)\n",
    "    labels = keras.utils.to_categorical(\n",
    "            np.append(bg_labels, sig_labels), 2)\n",
    "    indices = np.random.permutation(len(labels))\n",
    "    print(momenta.shape, labels.shape)\n",
    "    return momenta[indices], labels[indices]"
   ]
  },
  {
   "cell_type": "code",
   "execution_count": 45,
   "metadata": {},
   "outputs": [
    {
     "name": "stdout",
     "output_type": "stream",
     "text": [
      "Loading by given slice slice(None, 200000, None)\n",
      "\n",
      "100000 bg jets loaded from bg_dataset.h5\n",
      "100000 sig jets loaded from sig_dataset.h5\n",
      "\n",
      "\n",
      "(200000, 4, 40) (200000, 2)\n"
     ]
    }
   ],
   "source": [
    "momenta,labels1 = loadJetMomenta([\"bg_dataset.h5\",\"sig_dataset.h5\"])"
   ]
  },
  {
   "cell_type": "code",
   "execution_count": 49,
   "metadata": {},
   "outputs": [
    {
     "name": "stdout",
     "output_type": "stream",
     "text": [
      "in makeRoc()\n"
     ]
    },
    {
     "name": "stderr",
     "output_type": "stream",
     "text": [
      "D:\\Users\\Azure\\anaconda3\\lib\\site-packages\\ipykernel_launcher.py:3: FutureWarning: elementwise comparison failed; returning scalar instead, but in the future will perform elementwise comparison\n",
      "  This is separate from the ipykernel package so we can avoid doing imports until\n"
     ]
    },
    {
     "ename": "KeyError",
     "evalue": "\"None of [Float64Index([0.0, 1.0], dtype='float64')] are in the [columns]\"",
     "output_type": "error",
     "traceback": [
      "\u001b[1;31m---------------------------------------------------------------------------\u001b[0m",
      "\u001b[1;31mKeyError\u001b[0m                                  Traceback (most recent call last)",
      "\u001b[1;32m<ipython-input-49-1e7c034c4ac3>\u001b[0m in \u001b[0;36m<module>\u001b[1;34m\u001b[0m\n\u001b[0;32m      1\u001b[0m \u001b[1;32mimport\u001b[0m \u001b[0mpandas\u001b[0m \u001b[1;32mas\u001b[0m \u001b[0mpd\u001b[0m\u001b[1;33m\u001b[0m\u001b[1;33m\u001b[0m\u001b[0m\n\u001b[1;32m----> 2\u001b[1;33m \u001b[0mmakeRoc\u001b[0m\u001b[1;33m(\u001b[0m\u001b[0mvectors\u001b[0m\u001b[1;33m,\u001b[0m\u001b[0mlabels\u001b[0m\u001b[1;33m,\u001b[0m\u001b[0mlabels\u001b[0m\u001b[1;33m,\u001b[0m \u001b[0mmodel\u001b[0m\u001b[1;33m)\u001b[0m\u001b[1;33m\u001b[0m\u001b[1;33m\u001b[0m\u001b[0m\n\u001b[0m",
      "\u001b[1;32m<ipython-input-44-ce9315ba176f>\u001b[0m in \u001b[0;36mmakeRoc\u001b[1;34m(features_val, labels, labels_val, model)\u001b[0m\n\u001b[0;32m     13\u001b[0m     \u001b[0mplt\u001b[0m\u001b[1;33m.\u001b[0m\u001b[0mfigure\u001b[0m\u001b[1;33m(\u001b[0m\u001b[1;33m)\u001b[0m\u001b[1;33m\u001b[0m\u001b[1;33m\u001b[0m\u001b[0m\n\u001b[0;32m     14\u001b[0m     \u001b[1;32mfor\u001b[0m \u001b[0mi\u001b[0m\u001b[1;33m,\u001b[0m \u001b[0mlabel\u001b[0m \u001b[1;32min\u001b[0m \u001b[0menumerate\u001b[0m\u001b[1;33m(\u001b[0m\u001b[0mlabels\u001b[0m\u001b[1;33m)\u001b[0m\u001b[1;33m:\u001b[0m\u001b[1;33m\u001b[0m\u001b[1;33m\u001b[0m\u001b[0m\n\u001b[1;32m---> 15\u001b[1;33m         \u001b[0mdf\u001b[0m\u001b[1;33m[\u001b[0m\u001b[0mlabel\u001b[0m\u001b[1;33m]\u001b[0m \u001b[1;33m=\u001b[0m \u001b[0mlabels_val\u001b[0m\u001b[1;33m[\u001b[0m\u001b[1;33m:\u001b[0m\u001b[1;33m,\u001b[0m\u001b[0mi\u001b[0m\u001b[1;33m]\u001b[0m\u001b[1;33m\u001b[0m\u001b[1;33m\u001b[0m\u001b[0m\n\u001b[0m\u001b[0;32m     16\u001b[0m         \u001b[0mdf\u001b[0m\u001b[1;33m[\u001b[0m\u001b[0mlabel\u001b[0m \u001b[1;33m+\u001b[0m \u001b[1;34m'_pred'\u001b[0m\u001b[1;33m]\u001b[0m \u001b[1;33m=\u001b[0m \u001b[0mpredict_test\u001b[0m\u001b[1;33m[\u001b[0m\u001b[1;33m:\u001b[0m\u001b[1;33m,\u001b[0m\u001b[0mi\u001b[0m\u001b[1;33m]\u001b[0m\u001b[1;33m\u001b[0m\u001b[1;33m\u001b[0m\u001b[0m\n\u001b[0;32m     17\u001b[0m \u001b[1;33m\u001b[0m\u001b[0m\n",
      "\u001b[1;32mD:\\Users\\Azure\\anaconda3\\lib\\site-packages\\pandas\\core\\frame.py\u001b[0m in \u001b[0;36m__setitem__\u001b[1;34m(self, key, value)\u001b[0m\n\u001b[0;32m   2933\u001b[0m             \u001b[0mself\u001b[0m\u001b[1;33m.\u001b[0m\u001b[0m_setitem_frame\u001b[0m\u001b[1;33m(\u001b[0m\u001b[0mkey\u001b[0m\u001b[1;33m,\u001b[0m \u001b[0mvalue\u001b[0m\u001b[1;33m)\u001b[0m\u001b[1;33m\u001b[0m\u001b[1;33m\u001b[0m\u001b[0m\n\u001b[0;32m   2934\u001b[0m         \u001b[1;32melif\u001b[0m \u001b[0misinstance\u001b[0m\u001b[1;33m(\u001b[0m\u001b[0mkey\u001b[0m\u001b[1;33m,\u001b[0m \u001b[1;33m(\u001b[0m\u001b[0mSeries\u001b[0m\u001b[1;33m,\u001b[0m \u001b[0mnp\u001b[0m\u001b[1;33m.\u001b[0m\u001b[0mndarray\u001b[0m\u001b[1;33m,\u001b[0m \u001b[0mlist\u001b[0m\u001b[1;33m,\u001b[0m \u001b[0mIndex\u001b[0m\u001b[1;33m)\u001b[0m\u001b[1;33m)\u001b[0m\u001b[1;33m:\u001b[0m\u001b[1;33m\u001b[0m\u001b[1;33m\u001b[0m\u001b[0m\n\u001b[1;32m-> 2935\u001b[1;33m             \u001b[0mself\u001b[0m\u001b[1;33m.\u001b[0m\u001b[0m_setitem_array\u001b[0m\u001b[1;33m(\u001b[0m\u001b[0mkey\u001b[0m\u001b[1;33m,\u001b[0m \u001b[0mvalue\u001b[0m\u001b[1;33m)\u001b[0m\u001b[1;33m\u001b[0m\u001b[1;33m\u001b[0m\u001b[0m\n\u001b[0m\u001b[0;32m   2936\u001b[0m         \u001b[1;32melse\u001b[0m\u001b[1;33m:\u001b[0m\u001b[1;33m\u001b[0m\u001b[1;33m\u001b[0m\u001b[0m\n\u001b[0;32m   2937\u001b[0m             \u001b[1;31m# set column\u001b[0m\u001b[1;33m\u001b[0m\u001b[1;33m\u001b[0m\u001b[1;33m\u001b[0m\u001b[0m\n",
      "\u001b[1;32mD:\\Users\\Azure\\anaconda3\\lib\\site-packages\\pandas\\core\\frame.py\u001b[0m in \u001b[0;36m_setitem_array\u001b[1;34m(self, key, value)\u001b[0m\n\u001b[0;32m   2964\u001b[0m             \u001b[1;32melse\u001b[0m\u001b[1;33m:\u001b[0m\u001b[1;33m\u001b[0m\u001b[1;33m\u001b[0m\u001b[0m\n\u001b[0;32m   2965\u001b[0m                 indexer = self.loc._get_listlike_indexer(\n\u001b[1;32m-> 2966\u001b[1;33m                     \u001b[0mkey\u001b[0m\u001b[1;33m,\u001b[0m \u001b[0maxis\u001b[0m\u001b[1;33m=\u001b[0m\u001b[1;36m1\u001b[0m\u001b[1;33m,\u001b[0m \u001b[0mraise_missing\u001b[0m\u001b[1;33m=\u001b[0m\u001b[1;32mFalse\u001b[0m\u001b[1;33m\u001b[0m\u001b[1;33m\u001b[0m\u001b[0m\n\u001b[0m\u001b[0;32m   2967\u001b[0m                 )[1]\n\u001b[0;32m   2968\u001b[0m                 \u001b[0mself\u001b[0m\u001b[1;33m.\u001b[0m\u001b[0m_check_setitem_copy\u001b[0m\u001b[1;33m(\u001b[0m\u001b[1;33m)\u001b[0m\u001b[1;33m\u001b[0m\u001b[1;33m\u001b[0m\u001b[0m\n",
      "\u001b[1;32mD:\\Users\\Azure\\anaconda3\\lib\\site-packages\\pandas\\core\\indexing.py\u001b[0m in \u001b[0;36m_get_listlike_indexer\u001b[1;34m(self, key, axis, raise_missing)\u001b[0m\n\u001b[0;32m   1550\u001b[0m \u001b[1;33m\u001b[0m\u001b[0m\n\u001b[0;32m   1551\u001b[0m         self._validate_read_indexer(\n\u001b[1;32m-> 1552\u001b[1;33m             \u001b[0mkeyarr\u001b[0m\u001b[1;33m,\u001b[0m \u001b[0mindexer\u001b[0m\u001b[1;33m,\u001b[0m \u001b[0mo\u001b[0m\u001b[1;33m.\u001b[0m\u001b[0m_get_axis_number\u001b[0m\u001b[1;33m(\u001b[0m\u001b[0maxis\u001b[0m\u001b[1;33m)\u001b[0m\u001b[1;33m,\u001b[0m \u001b[0mraise_missing\u001b[0m\u001b[1;33m=\u001b[0m\u001b[0mraise_missing\u001b[0m\u001b[1;33m\u001b[0m\u001b[1;33m\u001b[0m\u001b[0m\n\u001b[0m\u001b[0;32m   1553\u001b[0m         )\n\u001b[0;32m   1554\u001b[0m         \u001b[1;32mreturn\u001b[0m \u001b[0mkeyarr\u001b[0m\u001b[1;33m,\u001b[0m \u001b[0mindexer\u001b[0m\u001b[1;33m\u001b[0m\u001b[1;33m\u001b[0m\u001b[0m\n",
      "\u001b[1;32mD:\\Users\\Azure\\anaconda3\\lib\\site-packages\\pandas\\core\\indexing.py\u001b[0m in \u001b[0;36m_validate_read_indexer\u001b[1;34m(self, key, indexer, axis, raise_missing)\u001b[0m\n\u001b[0;32m   1637\u001b[0m             \u001b[1;32mif\u001b[0m \u001b[0mmissing\u001b[0m \u001b[1;33m==\u001b[0m \u001b[0mlen\u001b[0m\u001b[1;33m(\u001b[0m\u001b[0mindexer\u001b[0m\u001b[1;33m)\u001b[0m\u001b[1;33m:\u001b[0m\u001b[1;33m\u001b[0m\u001b[1;33m\u001b[0m\u001b[0m\n\u001b[0;32m   1638\u001b[0m                 \u001b[0maxis_name\u001b[0m \u001b[1;33m=\u001b[0m \u001b[0mself\u001b[0m\u001b[1;33m.\u001b[0m\u001b[0mobj\u001b[0m\u001b[1;33m.\u001b[0m\u001b[0m_get_axis_name\u001b[0m\u001b[1;33m(\u001b[0m\u001b[0maxis\u001b[0m\u001b[1;33m)\u001b[0m\u001b[1;33m\u001b[0m\u001b[1;33m\u001b[0m\u001b[0m\n\u001b[1;32m-> 1639\u001b[1;33m                 \u001b[1;32mraise\u001b[0m \u001b[0mKeyError\u001b[0m\u001b[1;33m(\u001b[0m\u001b[1;34mf\"None of [{key}] are in the [{axis_name}]\"\u001b[0m\u001b[1;33m)\u001b[0m\u001b[1;33m\u001b[0m\u001b[1;33m\u001b[0m\u001b[0m\n\u001b[0m\u001b[0;32m   1640\u001b[0m \u001b[1;33m\u001b[0m\u001b[0m\n\u001b[0;32m   1641\u001b[0m             \u001b[1;31m# We (temporarily) allow for some missing keys with .loc, except in\u001b[0m\u001b[1;33m\u001b[0m\u001b[1;33m\u001b[0m\u001b[1;33m\u001b[0m\u001b[0m\n",
      "\u001b[1;31mKeyError\u001b[0m: \"None of [Float64Index([0.0, 1.0], dtype='float64')] are in the [columns]\""
     ]
    },
    {
     "data": {
      "text/plain": [
       "<Figure size 432x288 with 0 Axes>"
      ]
     },
     "metadata": {},
     "output_type": "display_data"
    }
   ],
   "source": [
    "import pandas as pd\n",
    "makeRoc(vectors,labels,labels, model)"
   ]
  },
  {
   "cell_type": "code",
   "execution_count": null,
   "metadata": {},
   "outputs": [],
   "source": []
  }
 ],
 "metadata": {
  "kernelspec": {
   "display_name": "Python 3",
   "language": "python",
   "name": "python3"
  },
  "language_info": {
   "codemirror_mode": {
    "name": "ipython",
    "version": 3
   },
   "file_extension": ".py",
   "mimetype": "text/x-python",
   "name": "python",
   "nbconvert_exporter": "python",
   "pygments_lexer": "ipython3",
   "version": "3.7.6"
  }
 },
 "nbformat": 4,
 "nbformat_minor": 4
}
